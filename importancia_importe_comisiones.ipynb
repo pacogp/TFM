{
  "nbformat": 4,
  "nbformat_minor": 0,
  "metadata": {
    "colab": {
      "name": "importancia_importe_comisiones.ipynb",
      "provenance": [],
      "collapsed_sections": [],
      "authorship_tag": "ABX9TyOL1rjazaHv6wgfkX3j6gIh",
      "include_colab_link": true
    },
    "kernelspec": {
      "name": "python3",
      "display_name": "Python 3"
    },
    "language_info": {
      "name": "python"
    }
  },
  "cells": [
    {
      "cell_type": "markdown",
      "metadata": {
        "id": "view-in-github",
        "colab_type": "text"
      },
      "source": [
        "<a href=\"https://colab.research.google.com/github/pacogp/TFM/blob/main/importancia_importe_comisiones.ipynb\" target=\"_parent\"><img src=\"https://colab.research.google.com/assets/colab-badge.svg\" alt=\"Open In Colab\"/></a>"
      ]
    },
    {
      "cell_type": "markdown",
      "metadata": {
        "id": "LIgomo-NjP-u"
      },
      "source": [
        "### Objetivo 3: Evaluación e importancia de las comisiones dadas a representantes & Ventas\n"
      ]
    },
    {
      "cell_type": "code",
      "metadata": {
        "colab": {
          "resources": {
            "http://localhost:8080/nbextensions/google.colab/files.js": {
              "data": "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",
              "ok": true,
              "headers": [
                [
                  "content-type",
                  "application/javascript"
                ]
              ],
              "status": 200,
              "status_text": ""
            }
          },
          "base_uri": "https://localhost:8080/",
          "height": 91
        },
        "id": "t4OMLgT7jO_0",
        "outputId": "b2ae5123-1c82-4f13-8985-ea32231a3ad4"
      },
      "source": [
        "# 0. load data from file\n",
        "from google.colab import files\n",
        "\n",
        "uploaded = files.upload()\n",
        "\n",
        "for fn in uploaded.keys():\n",
        "  print('User uploaded file \"{name}\" with length {length} bytes'.format(\n",
        "      name=fn, length=len(uploaded[fn])))"
      ],
      "execution_count": 1,
      "outputs": [
        {
          "output_type": "display_data",
          "data": {
            "text/html": [
              "\n",
              "     <input type=\"file\" id=\"files-227653e0-af8a-4c9e-88a1-917e67941b1f\" name=\"files[]\" multiple disabled\n",
              "        style=\"border:none\" />\n",
              "     <output id=\"result-227653e0-af8a-4c9e-88a1-917e67941b1f\">\n",
              "      Upload widget is only available when the cell has been executed in the\n",
              "      current browser session. Please rerun this cell to enable.\n",
              "      </output>\n",
              "      <script src=\"/nbextensions/google.colab/files.js\"></script> "
            ],
            "text/plain": [
              "<IPython.core.display.HTML object>"
            ]
          },
          "metadata": {}
        },
        {
          "output_type": "stream",
          "name": "stdout",
          "text": [
            "Saving IMPORTANCIA_IMPORTE_COMISIONES.csv to IMPORTANCIA_IMPORTE_COMISIONES.csv\n",
            "User uploaded file \"IMPORTANCIA_IMPORTE_COMISIONES.csv\" with length 70340 bytes\n"
          ]
        }
      ]
    },
    {
      "cell_type": "code",
      "metadata": {
        "colab": {
          "base_uri": "https://localhost:8080/",
          "height": 335
        },
        "id": "jrTq_5DTjyRA",
        "outputId": "a1d5cd7c-4370-4aab-ad06-e723a1f2efda"
      },
      "source": [
        "# 0. load data in DataFrame\n",
        "import pandas as pd\n",
        "import io\n",
        "comisiones = pd.read_csv(io.StringIO(uploaded[fn].decode('utf-8')), \n",
        "                    index_col = 'FECHA')\n",
        "comisiones.head()"
      ],
      "execution_count": 2,
      "outputs": [
        {
          "output_type": "execute_result",
          "data": {
            "text/html": [
              "<div>\n",
              "<style scoped>\n",
              "    .dataframe tbody tr th:only-of-type {\n",
              "        vertical-align: middle;\n",
              "    }\n",
              "\n",
              "    .dataframe tbody tr th {\n",
              "        vertical-align: top;\n",
              "    }\n",
              "\n",
              "    .dataframe thead th {\n",
              "        text-align: right;\n",
              "    }\n",
              "</style>\n",
              "<table border=\"1\" class=\"dataframe\">\n",
              "  <thead>\n",
              "    <tr style=\"text-align: right;\">\n",
              "      <th></th>\n",
              "      <th>Sum_COSTE_MP</th>\n",
              "      <th>Sum_COSTE_TAPIZADO</th>\n",
              "      <th>Sum_DTO_LINEAS</th>\n",
              "      <th>Sum_DTO_PP</th>\n",
              "      <th>Sum_I_BRUTO</th>\n",
              "      <th>Sum_I_COMISION</th>\n",
              "      <th>Sum_IMPORTE_LINEA</th>\n",
              "      <th>Sum_MARGEN_BRUTO</th>\n",
              "      <th>Sum_MARGEN_LINEA</th>\n",
              "      <th>Sum_NUMERO_PLAZAS</th>\n",
              "      <th>Sum_UNIDADES</th>\n",
              "    </tr>\n",
              "    <tr>\n",
              "      <th>FECHA</th>\n",
              "      <th></th>\n",
              "      <th></th>\n",
              "      <th></th>\n",
              "      <th></th>\n",
              "      <th></th>\n",
              "      <th></th>\n",
              "      <th></th>\n",
              "      <th></th>\n",
              "      <th></th>\n",
              "      <th></th>\n",
              "      <th></th>\n",
              "    </tr>\n",
              "  </thead>\n",
              "  <tbody>\n",
              "    <tr>\n",
              "      <th>2019-01-07</th>\n",
              "      <td>10922.96</td>\n",
              "      <td>3801.76</td>\n",
              "      <td>6775.79</td>\n",
              "      <td>785.59</td>\n",
              "      <td>94708.62</td>\n",
              "      <td>3476.88</td>\n",
              "      <td>22052.01</td>\n",
              "      <td>87147.26</td>\n",
              "      <td>11129.14</td>\n",
              "      <td>8325</td>\n",
              "      <td>66</td>\n",
              "    </tr>\n",
              "    <tr>\n",
              "      <th>2019-01-08</th>\n",
              "      <td>11589.97</td>\n",
              "      <td>3534.20</td>\n",
              "      <td>3774.80</td>\n",
              "      <td>826.00</td>\n",
              "      <td>69287.85</td>\n",
              "      <td>2924.53</td>\n",
              "      <td>26385.36</td>\n",
              "      <td>64687.02</td>\n",
              "      <td>14795.59</td>\n",
              "      <td>9425</td>\n",
              "      <td>65</td>\n",
              "    </tr>\n",
              "    <tr>\n",
              "      <th>2019-01-09</th>\n",
              "      <td>7419.34</td>\n",
              "      <td>1987.35</td>\n",
              "      <td>4354.72</td>\n",
              "      <td>532.01</td>\n",
              "      <td>45594.89</td>\n",
              "      <td>1619.78</td>\n",
              "      <td>16854.57</td>\n",
              "      <td>40708.12</td>\n",
              "      <td>9435.24</td>\n",
              "      <td>5900</td>\n",
              "      <td>40</td>\n",
              "    </tr>\n",
              "    <tr>\n",
              "      <th>2019-01-10</th>\n",
              "      <td>21573.77</td>\n",
              "      <td>6387.27</td>\n",
              "      <td>9544.78</td>\n",
              "      <td>2176.21</td>\n",
              "      <td>141297.03</td>\n",
              "      <td>6460.41</td>\n",
              "      <td>48475.74</td>\n",
              "      <td>129575.87</td>\n",
              "      <td>26902.13</td>\n",
              "      <td>19725</td>\n",
              "      <td>125</td>\n",
              "    </tr>\n",
              "    <tr>\n",
              "      <th>2019-01-11</th>\n",
              "      <td>7498.09</td>\n",
              "      <td>2175.50</td>\n",
              "      <td>4832.58</td>\n",
              "      <td>468.99</td>\n",
              "      <td>48067.80</td>\n",
              "      <td>1257.68</td>\n",
              "      <td>17564.48</td>\n",
              "      <td>42766.23</td>\n",
              "      <td>10066.46</td>\n",
              "      <td>6300</td>\n",
              "      <td>40</td>\n",
              "    </tr>\n",
              "  </tbody>\n",
              "</table>\n",
              "</div>"
            ],
            "text/plain": [
              "            Sum_COSTE_MP  Sum_COSTE_TAPIZADO  ...  Sum_NUMERO_PLAZAS  Sum_UNIDADES\n",
              "FECHA                                         ...                                 \n",
              "2019-01-07      10922.96             3801.76  ...               8325            66\n",
              "2019-01-08      11589.97             3534.20  ...               9425            65\n",
              "2019-01-09       7419.34             1987.35  ...               5900            40\n",
              "2019-01-10      21573.77             6387.27  ...              19725           125\n",
              "2019-01-11       7498.09             2175.50  ...               6300            40\n",
              "\n",
              "[5 rows x 11 columns]"
            ]
          },
          "metadata": {},
          "execution_count": 2
        }
      ]
    },
    {
      "cell_type": "markdown",
      "metadata": {
        "id": "r8n7OkV_msJO"
      },
      "source": [
        "Vamos a dividir nuestro conjunto de datos en dos partes una para entrenamiento y otra para test. Para ello vamos a utilizar los datos de 2019 y la mitad de 2020 para entrenamiento y el resto de 2020 para los tests."
      ]
    },
    {
      "cell_type": "code",
      "metadata": {
        "id": "eDzL878DrpFH"
      },
      "source": [
        "from IPython.display import display_html\n",
        "def display_side_by_side(*args):\n",
        "    html_str=''\n",
        "    for df in args:\n",
        "        html_str+=df.to_html()\n",
        "    display_html(html_str.replace('table','table style=\"display:inline\"'),raw=True)"
      ],
      "execution_count": 4,
      "outputs": []
    },
    {
      "cell_type": "code",
      "metadata": {
        "colab": {
          "base_uri": "https://localhost:8080/",
          "height": 635
        },
        "id": "eVc30hAWm88O",
        "outputId": "73cf7c77-6bf9-448f-a657-3094c787e6d7"
      },
      "source": [
        "# 0.1 features and labels\n",
        "df = comisiones[['Sum_COSTE_MP', 'Sum_COSTE_TAPIZADO', 'Sum_DTO_LINEAS', 'Sum_DTO_PP',\n",
        "                 'Sum_I_BRUTO', 'Sum_I_COMISION', 'Sum_IMPORTE_LINEA', 'Sum_MARGEN_BRUTO', \n",
        "                 'Sum_MARGEN_LINEA', 'Sum_NUMERO_PLAZAS', 'Sum_UNIDADES']]\n",
        "\n",
        "train = df.loc['2019-01-07':'2020-06-30']\n",
        "test  = df.loc['2020-07-01':]\n",
        "\n",
        "display_side_by_side(train.tail(),test.head())"
      ],
      "execution_count": 5,
      "outputs": [
        {
          "output_type": "display_data",
          "data": {
            "text/html": [
              "<table style=\"display:inline\" border=\"1\" class=\"dataframe\">\n",
              "  <thead>\n",
              "    <tr style=\"text-align: right;\">\n",
              "      <th></th>\n",
              "      <th>Sum_COSTE_MP</th>\n",
              "      <th>Sum_COSTE_TAPIZADO</th>\n",
              "      <th>Sum_DTO_LINEAS</th>\n",
              "      <th>Sum_DTO_PP</th>\n",
              "      <th>Sum_I_BRUTO</th>\n",
              "      <th>Sum_I_COMISION</th>\n",
              "      <th>Sum_IMPORTE_LINEA</th>\n",
              "      <th>Sum_MARGEN_BRUTO</th>\n",
              "      <th>Sum_MARGEN_LINEA</th>\n",
              "      <th>Sum_NUMERO_PLAZAS</th>\n",
              "      <th>Sum_UNIDADES</th>\n",
              "    </tr>\n",
              "    <tr>\n",
              "      <th>FECHA</th>\n",
              "      <th></th>\n",
              "      <th></th>\n",
              "      <th></th>\n",
              "      <th></th>\n",
              "      <th></th>\n",
              "      <th></th>\n",
              "      <th></th>\n",
              "      <th></th>\n",
              "      <th></th>\n",
              "      <th></th>\n",
              "      <th></th>\n",
              "    </tr>\n",
              "  </thead>\n",
              "  <tbody>\n",
              "    <tr>\n",
              "      <th>2020-06-24</th>\n",
              "      <td>23810.37</td>\n",
              "      <td>7888.05</td>\n",
              "      <td>29020.07</td>\n",
              "      <td>1620.05</td>\n",
              "      <td>279856.57</td>\n",
              "      <td>12087.12</td>\n",
              "      <td>53445.08</td>\n",
              "      <td>249216.50</td>\n",
              "      <td>29634.81</td>\n",
              "      <td>18800</td>\n",
              "      <td>126</td>\n",
              "    </tr>\n",
              "    <tr>\n",
              "      <th>2020-06-25</th>\n",
              "      <td>16545.46</td>\n",
              "      <td>5671.66</td>\n",
              "      <td>6757.42</td>\n",
              "      <td>3539.54</td>\n",
              "      <td>100236.12</td>\n",
              "      <td>4230.72</td>\n",
              "      <td>34717.84</td>\n",
              "      <td>89939.05</td>\n",
              "      <td>18172.51</td>\n",
              "      <td>11950</td>\n",
              "      <td>81</td>\n",
              "    </tr>\n",
              "    <tr>\n",
              "      <th>2020-06-26</th>\n",
              "      <td>10655.21</td>\n",
              "      <td>3376.65</td>\n",
              "      <td>6041.11</td>\n",
              "      <td>1459.54</td>\n",
              "      <td>72159.04</td>\n",
              "      <td>2522.34</td>\n",
              "      <td>24871.26</td>\n",
              "      <td>64658.39</td>\n",
              "      <td>14216.12</td>\n",
              "      <td>9125</td>\n",
              "      <td>61</td>\n",
              "    </tr>\n",
              "    <tr>\n",
              "      <th>2020-06-29</th>\n",
              "      <td>17365.09</td>\n",
              "      <td>4894.28</td>\n",
              "      <td>10677.48</td>\n",
              "      <td>1179.96</td>\n",
              "      <td>160801.94</td>\n",
              "      <td>7358.78</td>\n",
              "      <td>41092.04</td>\n",
              "      <td>148944.58</td>\n",
              "      <td>23726.96</td>\n",
              "      <td>16425</td>\n",
              "      <td>99</td>\n",
              "    </tr>\n",
              "    <tr>\n",
              "      <th>2020-06-30</th>\n",
              "      <td>17321.92</td>\n",
              "      <td>4759.93</td>\n",
              "      <td>7813.11</td>\n",
              "      <td>2089.48</td>\n",
              "      <td>136506.33</td>\n",
              "      <td>5983.14</td>\n",
              "      <td>39120.25</td>\n",
              "      <td>126603.72</td>\n",
              "      <td>21798.45</td>\n",
              "      <td>14000</td>\n",
              "      <td>97</td>\n",
              "    </tr>\n",
              "  </tbody>\n",
              "</table style=\"display:inline\"><table style=\"display:inline\" border=\"1\" class=\"dataframe\">\n",
              "  <thead>\n",
              "    <tr style=\"text-align: right;\">\n",
              "      <th></th>\n",
              "      <th>Sum_COSTE_MP</th>\n",
              "      <th>Sum_COSTE_TAPIZADO</th>\n",
              "      <th>Sum_DTO_LINEAS</th>\n",
              "      <th>Sum_DTO_PP</th>\n",
              "      <th>Sum_I_BRUTO</th>\n",
              "      <th>Sum_I_COMISION</th>\n",
              "      <th>Sum_IMPORTE_LINEA</th>\n",
              "      <th>Sum_MARGEN_BRUTO</th>\n",
              "      <th>Sum_MARGEN_LINEA</th>\n",
              "      <th>Sum_NUMERO_PLAZAS</th>\n",
              "      <th>Sum_UNIDADES</th>\n",
              "    </tr>\n",
              "    <tr>\n",
              "      <th>FECHA</th>\n",
              "      <th></th>\n",
              "      <th></th>\n",
              "      <th></th>\n",
              "      <th></th>\n",
              "      <th></th>\n",
              "      <th></th>\n",
              "      <th></th>\n",
              "      <th></th>\n",
              "      <th></th>\n",
              "      <th></th>\n",
              "      <th></th>\n",
              "    </tr>\n",
              "  </thead>\n",
              "  <tbody>\n",
              "    <tr>\n",
              "      <th>2020-07-01</th>\n",
              "      <td>20442.69</td>\n",
              "      <td>5692.48</td>\n",
              "      <td>8355.07</td>\n",
              "      <td>1227.36</td>\n",
              "      <td>252713.40</td>\n",
              "      <td>14817.28</td>\n",
              "      <td>48904.32</td>\n",
              "      <td>243130.88</td>\n",
              "      <td>28461.96</td>\n",
              "      <td>17100</td>\n",
              "      <td>114</td>\n",
              "    </tr>\n",
              "    <tr>\n",
              "      <th>2020-07-02</th>\n",
              "      <td>5872.88</td>\n",
              "      <td>1560.06</td>\n",
              "      <td>2130.03</td>\n",
              "      <td>464.71</td>\n",
              "      <td>31602.20</td>\n",
              "      <td>1320.11</td>\n",
              "      <td>13256.60</td>\n",
              "      <td>29007.47</td>\n",
              "      <td>7383.74</td>\n",
              "      <td>5025</td>\n",
              "      <td>29</td>\n",
              "    </tr>\n",
              "    <tr>\n",
              "      <th>2020-07-03</th>\n",
              "      <td>10834.13</td>\n",
              "      <td>2920.19</td>\n",
              "      <td>4454.05</td>\n",
              "      <td>1237.45</td>\n",
              "      <td>71682.32</td>\n",
              "      <td>3431.42</td>\n",
              "      <td>25747.28</td>\n",
              "      <td>65990.78</td>\n",
              "      <td>14913.21</td>\n",
              "      <td>8850</td>\n",
              "      <td>65</td>\n",
              "    </tr>\n",
              "    <tr>\n",
              "      <th>2020-07-06</th>\n",
              "      <td>9481.79</td>\n",
              "      <td>3427.70</td>\n",
              "      <td>6869.90</td>\n",
              "      <td>1509.12</td>\n",
              "      <td>110180.00</td>\n",
              "      <td>4253.16</td>\n",
              "      <td>21074.20</td>\n",
              "      <td>101800.92</td>\n",
              "      <td>11592.50</td>\n",
              "      <td>6875</td>\n",
              "      <td>50</td>\n",
              "    </tr>\n",
              "    <tr>\n",
              "      <th>2020-07-07</th>\n",
              "      <td>16442.91</td>\n",
              "      <td>5073.83</td>\n",
              "      <td>9591.93</td>\n",
              "      <td>1577.94</td>\n",
              "      <td>105660.42</td>\n",
              "      <td>4466.51</td>\n",
              "      <td>38295.16</td>\n",
              "      <td>94490.53</td>\n",
              "      <td>21852.36</td>\n",
              "      <td>13250</td>\n",
              "      <td>90</td>\n",
              "    </tr>\n",
              "  </tbody>\n",
              "</table style=\"display:inline\">"
            ]
          },
          "metadata": {}
        }
      ]
    },
    {
      "cell_type": "code",
      "metadata": {
        "id": "WTa0RZMnsAp1"
      },
      "source": [
        "# reseteamos el index con el fin de evitar problemas en la validación cruzada\n",
        "train.reset_index(drop = True, inplace = True)"
      ],
      "execution_count": 6,
      "outputs": []
    },
    {
      "cell_type": "code",
      "metadata": {
        "colab": {
          "base_uri": "https://localhost:8080/",
          "height": 247
        },
        "id": "Pb3vkKi1sIV9",
        "outputId": "25c3dceb-d08d-47ac-d86c-e74180ee0c25"
      },
      "source": [
        "from mpl_toolkits.mplot3d import Axes3D\n",
        "import matplotlib.pyplot as plt\n",
        "fig = plt.figure()\n",
        "ax = fig.add_subplot(111, projection='3d')\n",
        "ax.scatter(train['Sum_IMPORTE_LINEA'], train['Sum_NUMERO_PLAZAS'], train['Sum_MARGEN_LINEA'], c='skyblue', s=60)\n",
        "ax.view_init(30, 185)\n",
        "plt.show()"
      ],
      "execution_count": 7,
      "outputs": [
        {
          "output_type": "display_data",
          "data": {
            "image/png": "[encoded data removed]",
            "text/plain": [
              "<Figure size 432x288 with 1 Axes>"
            ]
          },
          "metadata": {
            "needs_background": "light"
          }
        }
      ]
    },
    {
      "cell_type": "markdown",
      "metadata": {
        "id": "vzQgbaE_uPOd"
      },
      "source": [
        "1. Parametrización\n",
        "Existen diferentes parámetros que se pueden optimizar para la utilización de RandomForests, en este caso vamos a ceñirnos a a optimizar el número de estimadores que vamos a probar con distintas potencias de 2"
      ]
    },
    {
      "cell_type": "code",
      "metadata": {
        "id": "JJBAEFBduOdf"
      },
      "source": [
        "from sklearn.model_selection import TimeSeriesSplit\n",
        "# https://scikit-learn.org/stable/modules/generated/sklearn.model_selection.TimeSeriesSplit.html\n",
        "cv = TimeSeriesSplit() #"
      ],
      "execution_count": 9,
      "outputs": []
    },
    {
      "cell_type": "code",
      "metadata": {
        "colab": {
          "base_uri": "https://localhost:8080/",
          "height": 264
        },
        "id": "_1_gh_tLuU9F",
        "outputId": "baae9cf7-5eb4-46ac-ac19-a57d4d0178fc"
      },
      "source": [
        "from sklearn.ensemble import RandomForestRegressor\n",
        "import matplotlib.pyplot as plt\n",
        "from sklearn.metrics import mean_absolute_error\n",
        "import numpy as np\n",
        "\n",
        "l_estimators = [2, 4, 8, 16, 32, 64]#, 128, 256, 512, 1024]\n",
        "\n",
        "total_scores = []\n",
        "for estimators in l_estimators:\n",
        "   fold_accuracy = []\n",
        "   regressor =  RandomForestRegressor(n_estimators= estimators, \n",
        "                  criterion='mae', random_state=0)\n",
        "   for train_fold, test_fold in cv.split(train):\n",
        "      # División train test aleatoria\n",
        "      f_train = train.loc[train_fold]\n",
        "      f_test = train.loc[test_fold]\n",
        "      # entrenamiento y ejecución del modelo\n",
        "      regressor.fit( X = f_train.drop(['Sum_IMPORTE_LINEA'], axis=1), \n",
        "                           y = f_train['Sum_IMPORTE_LINEA'])\n",
        "      y_pred = regressor.predict(X = f_test.drop(['Sum_IMPORTE_LINEA'], axis = 1))\n",
        "      # evaluación del modelo\n",
        "      mae = mean_absolute_error(f_test['Sum_IMPORTE_LINEA'], y_pred)\n",
        "      fold_accuracy.append(mae)\n",
        "   total_scores.append(sum(fold_accuracy)/len(fold_accuracy))\n",
        "\n",
        "\n",
        "  \n",
        "plt.plot(l_estimators, total_scores, marker='o')\n",
        "plt.ylabel('MAE')      \n",
        "plt.show() "
      ],
      "execution_count": 10,
      "outputs": [
        {
          "output_type": "display_data",
          "data": {
            "image/png": "[encoded data removed]",
            "text/plain": [
              "<Figure size 432x288 with 1 Axes>"
            ]
          },
          "metadata": {
            "needs_background": "light"
          }
        }
      ]
    },
    {
      "cell_type": "code",
      "metadata": {
        "colab": {
          "base_uri": "https://localhost:8080/"
        },
        "id": "vtJQXmd3ut0N",
        "outputId": "e1fcff2f-775a-4e45-8514-6b336263ba83"
      },
      "source": [
        "best_est = l_estimators[np.argmin(total_scores)]\n",
        "best_mae = min(total_scores)\n",
        "print (\"Min Value (estimators = %i, MAE = %6.2f)\"  % (best_est, best_mae))"
      ],
      "execution_count": 11,
      "outputs": [
        {
          "output_type": "stream",
          "name": "stdout",
          "text": [
            "Min Value (estimators = 64, MAE = 797.04)\n"
          ]
        }
      ]
    }
  ]
}
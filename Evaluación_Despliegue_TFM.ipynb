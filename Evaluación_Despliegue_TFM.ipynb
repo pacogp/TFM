{
  "nbformat": 4,
  "nbformat_minor": 0,
  "metadata": {
    "colab": {
      "name": "Evaluación_Despliegue_TFM.ipynb",
      "provenance": [],
      "collapsed_sections": [],
      "authorship_tag": "ABX9TyMGyb1hjr7YzK6zrKEKwETw",
      "include_colab_link": true
    },
    "kernelspec": {
      "display_name": "Python 3",
      "name": "python3"
    },
    "language_info": {
      "name": "python"
    }
  },
  "cells": [
    {
      "cell_type": "markdown",
      "metadata": {
        "id": "view-in-github",
        "colab_type": "text"
      },
      "source": [
        "<a href=\"https://colab.research.google.com/github/pacogp/TFM/blob/main/Evaluaci%C3%B3n_Despliegue_TFM.ipynb\" target=\"_parent\"><img src=\"https://colab.research.google.com/assets/colab-badge.svg\" alt=\"Open In Colab\"/></a>"
      ]
    },
    {
      "cell_type": "code",
      "metadata": {
        "id": "LM6gsIBRvtUm"
      },
      "source": [
        "# Inicialmente importamos las librería y módulos que vamos a necesitar\n",
        "import pandas as pd\n",
        "import io \n",
        "from google.colab import files\n",
        "\n",
        "# para manipulación de datos y representaciones visuales vamos a necesitsar importar lo siguiente\n",
        "import matplotlib.pyplot as plt\n",
        "import numpy as np\n",
        "import itertools\n",
        "import seaborn as sns"
      ],
      "execution_count": 1,
      "outputs": []
    },
    {
      "cell_type": "code",
      "metadata": {
        "id": "YAuhvDm-wAq0"
      },
      "source": [
        "# para la importación de los datos: definimos la función upload_files\n",
        "\n",
        "def upload_files ():\n",
        "  uploaded = files.upload()\n",
        "  for fn in uploaded.keys():\n",
        "    print('User uploaded file \"{name}\" with length {length} bytes'.format(\n",
        "        name=fn, length=len(uploaded[fn])))\n",
        "    df = pd.read_csv(io.StringIO(uploaded[fn].decode('utf-8')))\n",
        "    return df"
      ],
      "execution_count": 2,
      "outputs": []
    },
    {
      "cell_type": "code",
      "metadata": {
        "colab": {
          "resources": {
            "http://localhost:8080/nbextensions/google.colab/files.js": {
              "data": "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",
              "ok": true,
              "headers": [
                [
                  "content-type",
                  "application/javascript"
                ]
              ],
              "status": 200,
              "status_text": ""
            }
          },
          "base_uri": "https://localhost:8080/",
          "height": 313
        },
        "id": "nOfAxQMWwK7c",
        "outputId": "72be0de6-90fb-4c38-f53f-1ba1c46dc6e4"
      },
      "source": [
        "# Cargamos los datos del dataset resultante del la exploración de los datos \"datos_completos_dedupped_train_test.csv\", Enlace: https://github.com/pacogp/TFM\n",
        "\n",
        "datos = upload_files()\n",
        "datos.head()"
      ],
      "execution_count": 3,
      "outputs": [
        {
          "output_type": "display_data",
          "data": {
            "text/html": [
              "\n",
              "     <input type=\"file\" id=\"files-481b8f61-ea5c-4b35-8240-efc63cb5630a\" name=\"files[]\" multiple disabled\n",
              "        style=\"border:none\" />\n",
              "     <output id=\"result-481b8f61-ea5c-4b35-8240-efc63cb5630a\">\n",
              "      Upload widget is only available when the cell has been executed in the\n",
              "      current browser session. Please rerun this cell to enable.\n",
              "      </output>\n",
              "      <script src=\"/nbextensions/google.colab/files.js\"></script> "
            ],
            "text/plain": [
              "<IPython.core.display.HTML object>"
            ]
          },
          "metadata": {}
        },
        {
          "output_type": "stream",
          "name": "stdout",
          "text": [
            "Saving datos_completos_dedupped_train_test_.csv to datos_completos_dedupped_train_test_.csv\n",
            "User uploaded file \"datos_completos_dedupped_train_test_.csv\" with length 2205420 bytes\n"
          ]
        },
        {
          "output_type": "execute_result",
          "data": {
            "text/html": [
              "<div>\n",
              "<style scoped>\n",
              "    .dataframe tbody tr th:only-of-type {\n",
              "        vertical-align: middle;\n",
              "    }\n",
              "\n",
              "    .dataframe tbody tr th {\n",
              "        vertical-align: top;\n",
              "    }\n",
              "\n",
              "    .dataframe thead th {\n",
              "        text-align: right;\n",
              "    }\n",
              "</style>\n",
              "<table border=\"1\" class=\"dataframe\">\n",
              "  <thead>\n",
              "    <tr style=\"text-align: right;\">\n",
              "      <th></th>\n",
              "      <th>CLIENTE</th>\n",
              "      <th>MODELO</th>\n",
              "      <th>NUM_PLAZAS</th>\n",
              "      <th>MECANISMO_MODULO</th>\n",
              "      <th>IMPORTE_LINEA</th>\n",
              "      <th>CATEGORIA</th>\n",
              "      <th>TIPO_TAPICERIA</th>\n",
              "      <th>COSTE_TAPIZADO_AGRUP</th>\n",
              "      <th>P_COSTE</th>\n",
              "      <th>MARGEN_UDS_LINEA</th>\n",
              "      <th>DTO_FAMILIA</th>\n",
              "      <th>I_COMISION</th>\n",
              "      <th>I_BRUTO</th>\n",
              "      <th>DTO_PP</th>\n",
              "      <th>DTO_LINEAS</th>\n",
              "      <th>MARGEN_BRUTO</th>\n",
              "      <th>PROVINCIA</th>\n",
              "      <th>COD_COMUNIDAD</th>\n",
              "      <th>HIPOTECA</th>\n",
              "      <th>INDENCIAS_CLIENTE</th>\n",
              "      <th>PIB_VALOR_EUROS</th>\n",
              "      <th>PARO_2020T3</th>\n",
              "      <th>status_cliente</th>\n",
              "    </tr>\n",
              "  </thead>\n",
              "  <tbody>\n",
              "    <tr>\n",
              "      <th>0</th>\n",
              "      <td>386</td>\n",
              "      <td>0</td>\n",
              "      <td>300</td>\n",
              "      <td>0</td>\n",
              "      <td>592.02</td>\n",
              "      <td>0</td>\n",
              "      <td>T</td>\n",
              "      <td>90.13</td>\n",
              "      <td>154.01</td>\n",
              "      <td>347.88</td>\n",
              "      <td>8.0</td>\n",
              "      <td>67.73</td>\n",
              "      <td>1472.46</td>\n",
              "      <td>0.00</td>\n",
              "      <td>117.80</td>\n",
              "      <td>1354.66</td>\n",
              "      <td>8</td>\n",
              "      <td>9.0</td>\n",
              "      <td>0.3240</td>\n",
              "      <td>89.0</td>\n",
              "      <td>29885.0</td>\n",
              "      <td>11.40</td>\n",
              "      <td>9.534693</td>\n",
              "    </tr>\n",
              "    <tr>\n",
              "      <th>1</th>\n",
              "      <td>386</td>\n",
              "      <td>0</td>\n",
              "      <td>100</td>\n",
              "      <td>1</td>\n",
              "      <td>470.58</td>\n",
              "      <td>0</td>\n",
              "      <td>T</td>\n",
              "      <td>90.13</td>\n",
              "      <td>127.43</td>\n",
              "      <td>253.02</td>\n",
              "      <td>8.0</td>\n",
              "      <td>67.73</td>\n",
              "      <td>1472.46</td>\n",
              "      <td>0.00</td>\n",
              "      <td>117.80</td>\n",
              "      <td>1354.66</td>\n",
              "      <td>8</td>\n",
              "      <td>9.0</td>\n",
              "      <td>0.3240</td>\n",
              "      <td>89.0</td>\n",
              "      <td>29885.0</td>\n",
              "      <td>11.40</td>\n",
              "      <td>9.534693</td>\n",
              "    </tr>\n",
              "    <tr>\n",
              "      <th>2</th>\n",
              "      <td>386</td>\n",
              "      <td>0</td>\n",
              "      <td>100</td>\n",
              "      <td>0</td>\n",
              "      <td>409.86</td>\n",
              "      <td>0</td>\n",
              "      <td>T</td>\n",
              "      <td>90.13</td>\n",
              "      <td>110.43</td>\n",
              "      <td>209.30</td>\n",
              "      <td>8.0</td>\n",
              "      <td>67.73</td>\n",
              "      <td>1472.46</td>\n",
              "      <td>0.00</td>\n",
              "      <td>117.80</td>\n",
              "      <td>1354.66</td>\n",
              "      <td>8</td>\n",
              "      <td>9.0</td>\n",
              "      <td>0.3240</td>\n",
              "      <td>89.0</td>\n",
              "      <td>29885.0</td>\n",
              "      <td>11.40</td>\n",
              "      <td>9.534693</td>\n",
              "    </tr>\n",
              "    <tr>\n",
              "      <th>3</th>\n",
              "      <td>4951</td>\n",
              "      <td>1</td>\n",
              "      <td>100</td>\n",
              "      <td>2</td>\n",
              "      <td>266.34</td>\n",
              "      <td>0</td>\n",
              "      <td>T</td>\n",
              "      <td>43.19</td>\n",
              "      <td>53.02</td>\n",
              "      <td>170.13</td>\n",
              "      <td>16.0</td>\n",
              "      <td>0.00</td>\n",
              "      <td>1305.48</td>\n",
              "      <td>21.93</td>\n",
              "      <td>208.86</td>\n",
              "      <td>1074.70</td>\n",
              "      <td>7</td>\n",
              "      <td>4.0</td>\n",
              "      <td>0.4149</td>\n",
              "      <td>53.0</td>\n",
              "      <td>27134.0</td>\n",
              "      <td>11.18</td>\n",
              "      <td>10.505733</td>\n",
              "    </tr>\n",
              "    <tr>\n",
              "      <th>4</th>\n",
              "      <td>4951</td>\n",
              "      <td>1</td>\n",
              "      <td>100</td>\n",
              "      <td>2</td>\n",
              "      <td>422.28</td>\n",
              "      <td>0</td>\n",
              "      <td>T</td>\n",
              "      <td>86.39</td>\n",
              "      <td>36.05</td>\n",
              "      <td>263.79</td>\n",
              "      <td>16.0</td>\n",
              "      <td>0.00</td>\n",
              "      <td>1305.48</td>\n",
              "      <td>21.93</td>\n",
              "      <td>208.86</td>\n",
              "      <td>1074.70</td>\n",
              "      <td>7</td>\n",
              "      <td>4.0</td>\n",
              "      <td>0.4149</td>\n",
              "      <td>53.0</td>\n",
              "      <td>27134.0</td>\n",
              "      <td>11.18</td>\n",
              "      <td>10.505733</td>\n",
              "    </tr>\n",
              "  </tbody>\n",
              "</table>\n",
              "</div>"
            ],
            "text/plain": [
              "   CLIENTE  MODELO  NUM_PLAZAS  ...  PIB_VALOR_EUROS  PARO_2020T3  status_cliente\n",
              "0      386       0         300  ...          29885.0        11.40        9.534693\n",
              "1      386       0         100  ...          29885.0        11.40        9.534693\n",
              "2      386       0         100  ...          29885.0        11.40        9.534693\n",
              "3     4951       1         100  ...          27134.0        11.18       10.505733\n",
              "4     4951       1         100  ...          27134.0        11.18       10.505733\n",
              "\n",
              "[5 rows x 23 columns]"
            ]
          },
          "metadata": {},
          "execution_count": 3
        }
      ]
    },
    {
      "cell_type": "markdown",
      "metadata": {
        "id": "YLnf3SxbxACK"
      },
      "source": [
        "### Separación del atributo de clase y las columnas a utilizar del dataset"
      ]
    },
    {
      "cell_type": "code",
      "metadata": {
        "id": "tyQ97roCw5_T"
      },
      "source": [
        "labels = datos.TIPO_TAPICERIA.values\n",
        "\n",
        "features = datos[['CLIENTE', 'I_BRUTO', 'MARGEN_BRUTO', 'PIB_VALOR_EUROS', \n",
        "                 'DTO_LINEAS', 'IMPORTE_LINEA', 'status_cliente', \n",
        "                 'MARGEN_UDS_LINEA', 'I_COMISION', 'DTO_PP', 'CATEGORIA']]"
      ],
      "execution_count": 4,
      "outputs": []
    },
    {
      "cell_type": "code",
      "metadata": {
        "colab": {
          "base_uri": "https://localhost:8080/",
          "height": 292
        },
        "id": "wxQWKnov02rZ",
        "outputId": "d77e811b-af69-4c3d-f34f-a84a9748f2f5"
      },
      "source": [
        "print(f\"Vista de los datos del atributo target: \\n{labels}\")\n",
        "print(\"-\"*50)\n",
        "print(\"Vista parcial de los datos sin el atributo target:\")\n",
        "features.head()"
      ],
      "execution_count": 5,
      "outputs": [
        {
          "output_type": "stream",
          "name": "stdout",
          "text": [
            "Vista de los datos del atributo target: \n",
            "['T' 'T' 'T' ... 'T' 'T' 'T']\n",
            "--------------------------------------------------\n",
            "Vista parcial de los datos sin el atributo target:\n"
          ]
        },
        {
          "output_type": "execute_result",
          "data": {
            "text/html": [
              "<div>\n",
              "<style scoped>\n",
              "    .dataframe tbody tr th:only-of-type {\n",
              "        vertical-align: middle;\n",
              "    }\n",
              "\n",
              "    .dataframe tbody tr th {\n",
              "        vertical-align: top;\n",
              "    }\n",
              "\n",
              "    .dataframe thead th {\n",
              "        text-align: right;\n",
              "    }\n",
              "</style>\n",
              "<table border=\"1\" class=\"dataframe\">\n",
              "  <thead>\n",
              "    <tr style=\"text-align: right;\">\n",
              "      <th></th>\n",
              "      <th>CLIENTE</th>\n",
              "      <th>I_BRUTO</th>\n",
              "      <th>MARGEN_BRUTO</th>\n",
              "      <th>PIB_VALOR_EUROS</th>\n",
              "      <th>DTO_LINEAS</th>\n",
              "      <th>IMPORTE_LINEA</th>\n",
              "      <th>status_cliente</th>\n",
              "      <th>MARGEN_UDS_LINEA</th>\n",
              "      <th>I_COMISION</th>\n",
              "      <th>DTO_PP</th>\n",
              "      <th>CATEGORIA</th>\n",
              "    </tr>\n",
              "  </thead>\n",
              "  <tbody>\n",
              "    <tr>\n",
              "      <th>0</th>\n",
              "      <td>386</td>\n",
              "      <td>1472.46</td>\n",
              "      <td>1354.66</td>\n",
              "      <td>29885.0</td>\n",
              "      <td>117.80</td>\n",
              "      <td>592.02</td>\n",
              "      <td>9.534693</td>\n",
              "      <td>347.88</td>\n",
              "      <td>67.73</td>\n",
              "      <td>0.00</td>\n",
              "      <td>0</td>\n",
              "    </tr>\n",
              "    <tr>\n",
              "      <th>1</th>\n",
              "      <td>386</td>\n",
              "      <td>1472.46</td>\n",
              "      <td>1354.66</td>\n",
              "      <td>29885.0</td>\n",
              "      <td>117.80</td>\n",
              "      <td>470.58</td>\n",
              "      <td>9.534693</td>\n",
              "      <td>253.02</td>\n",
              "      <td>67.73</td>\n",
              "      <td>0.00</td>\n",
              "      <td>0</td>\n",
              "    </tr>\n",
              "    <tr>\n",
              "      <th>2</th>\n",
              "      <td>386</td>\n",
              "      <td>1472.46</td>\n",
              "      <td>1354.66</td>\n",
              "      <td>29885.0</td>\n",
              "      <td>117.80</td>\n",
              "      <td>409.86</td>\n",
              "      <td>9.534693</td>\n",
              "      <td>209.30</td>\n",
              "      <td>67.73</td>\n",
              "      <td>0.00</td>\n",
              "      <td>0</td>\n",
              "    </tr>\n",
              "    <tr>\n",
              "      <th>3</th>\n",
              "      <td>4951</td>\n",
              "      <td>1305.48</td>\n",
              "      <td>1074.70</td>\n",
              "      <td>27134.0</td>\n",
              "      <td>208.86</td>\n",
              "      <td>266.34</td>\n",
              "      <td>10.505733</td>\n",
              "      <td>170.13</td>\n",
              "      <td>0.00</td>\n",
              "      <td>21.93</td>\n",
              "      <td>0</td>\n",
              "    </tr>\n",
              "    <tr>\n",
              "      <th>4</th>\n",
              "      <td>4951</td>\n",
              "      <td>1305.48</td>\n",
              "      <td>1074.70</td>\n",
              "      <td>27134.0</td>\n",
              "      <td>208.86</td>\n",
              "      <td>422.28</td>\n",
              "      <td>10.505733</td>\n",
              "      <td>263.79</td>\n",
              "      <td>0.00</td>\n",
              "      <td>21.93</td>\n",
              "      <td>0</td>\n",
              "    </tr>\n",
              "  </tbody>\n",
              "</table>\n",
              "</div>"
            ],
            "text/plain": [
              "   CLIENTE  I_BRUTO  MARGEN_BRUTO  ...  I_COMISION  DTO_PP  CATEGORIA\n",
              "0      386  1472.46       1354.66  ...       67.73    0.00          0\n",
              "1      386  1472.46       1354.66  ...       67.73    0.00          0\n",
              "2      386  1472.46       1354.66  ...       67.73    0.00          0\n",
              "3     4951  1305.48       1074.70  ...        0.00   21.93          0\n",
              "4     4951  1305.48       1074.70  ...        0.00   21.93          0\n",
              "\n",
              "[5 rows x 11 columns]"
            ]
          },
          "metadata": {},
          "execution_count": 5
        }
      ]
    },
    {
      "cell_type": "code",
      "metadata": {
        "colab": {
          "base_uri": "https://localhost:8080/"
        },
        "id": "MvN9EdmD32nR",
        "outputId": "fd8f9239-92b9-4395-9bd1-f4d2fa34a6f9"
      },
      "source": [
        "# Comprobamos que efectivamente no existen nulos\n",
        "\n",
        "nulos_x_columna = features.isna().sum()\n",
        "\n",
        "print(f\"Cantidad de filas que tienen valores nulos por atributo:\\n{nulos_x_columna}\")"
      ],
      "execution_count": 6,
      "outputs": [
        {
          "output_type": "stream",
          "name": "stdout",
          "text": [
            "Cantidad de filas que tienen valores nulos por atributo:\n",
            "CLIENTE             0\n",
            "I_BRUTO             0\n",
            "MARGEN_BRUTO        0\n",
            "PIB_VALOR_EUROS     0\n",
            "DTO_LINEAS          0\n",
            "IMPORTE_LINEA       0\n",
            "status_cliente      0\n",
            "MARGEN_UDS_LINEA    0\n",
            "I_COMISION          0\n",
            "DTO_PP              0\n",
            "CATEGORIA           0\n",
            "dtype: int64\n"
          ]
        }
      ]
    },
    {
      "cell_type": "markdown",
      "metadata": {
        "id": "Q1oTkGXm4trJ"
      },
      "source": [
        "### Generación de los datasets de entrenamiento y testing"
      ]
    },
    {
      "cell_type": "code",
      "metadata": {
        "id": "XBkQZXdG4xuw"
      },
      "source": [
        "from sklearn.model_selection import train_test_split\n",
        "\n",
        "# Se reparten los datos disponibles en conjuntos para entrenamiento y testeo\n",
        "\n",
        "# train_data, test_data, train_labels, test_labels = train_test_split(data, labels) \n",
        "\n",
        "train_data, test_data, train_labels, test_labels = train_test_split(features, labels, test_size = 0.20) # 20% de datos para test, 80% para entrenamiento\n",
        "# Toma por defecto 75% (entrenamiento) - 25% (testeo)\n",
        "# Se podría modificar con el parámetro test_size = 0.## y el complemento para training"
      ],
      "execution_count": 7,
      "outputs": []
    },
    {
      "cell_type": "code",
      "metadata": {
        "colab": {
          "base_uri": "https://localhost:8080/"
        },
        "id": "dv41A2Y7L16B",
        "outputId": "83679682-b45b-41b9-9d32-21d3f8e91ee1"
      },
      "source": [
        "# Vista de los datos de entrenamiento para una fila\n",
        "\n",
        "print(f\"Un registro de entrenamiento: \\n{train_data.iloc[1]}\")\n",
        "print(\"-\"*50)\n",
        "print(f\"Label del registro: \\n{train_labels[1]}\")"
      ],
      "execution_count": 8,
      "outputs": [
        {
          "output_type": "stream",
          "name": "stdout",
          "text": [
            "Un registro de entrenamiento: \n",
            "CLIENTE              5668.000000\n",
            "I_BRUTO              1247.400000\n",
            "MARGEN_BRUTO         1103.250000\n",
            "PIB_VALOR_EUROS     24445.000000\n",
            "DTO_LINEAS            121.630000\n",
            "IMPORTE_LINEA         481.600000\n",
            "status_cliente        192.665993\n",
            "MARGEN_UDS_LINEA      264.010000\n",
            "I_COMISION             55.160000\n",
            "DTO_PP                 22.520000\n",
            "CATEGORIA               0.000000\n",
            "Name: 10952, dtype: float64\n",
            "--------------------------------------------------\n",
            "Label del registro: \n",
            "T\n"
          ]
        }
      ]
    },
    {
      "cell_type": "code",
      "metadata": {
        "colab": {
          "base_uri": "https://localhost:8080/"
        },
        "id": "5v43IHueMGNR",
        "outputId": "a405b66b-c86b-449b-d9e7-7a6dca99830b"
      },
      "source": [
        "# Vista de los datos de testeo para una fila\n",
        "\n",
        "print(f\"Un registro de testeo: \\n{test_data.iloc[1]}\")\n",
        "print(\"-\"*50)\n",
        "print(f\"Label del registro: \\n{test_labels[1]}\")"
      ],
      "execution_count": 9,
      "outputs": [
        {
          "output_type": "stream",
          "name": "stdout",
          "text": [
            "Un registro de testeo: \n",
            "CLIENTE              4262.000000\n",
            "I_BRUTO               861.120000\n",
            "MARGEN_BRUTO          792.230000\n",
            "PIB_VALOR_EUROS     23343.000000\n",
            "DTO_LINEAS             68.890000\n",
            "IMPORTE_LINEA         484.380000\n",
            "status_cliente         10.618171\n",
            "MARGEN_UDS_LINEA      295.880000\n",
            "I_COMISION             55.460000\n",
            "DTO_PP                  0.000000\n",
            "CATEGORIA               2.000000\n",
            "Name: 1850, dtype: float64\n",
            "--------------------------------------------------\n",
            "Label del registro: \n",
            "T\n"
          ]
        }
      ]
    },
    {
      "cell_type": "markdown",
      "metadata": {
        "id": "BjOdzamKNZP5"
      },
      "source": [
        "### Aplicación de técnicas para extracción de patrones"
      ]
    },
    {
      "cell_type": "code",
      "metadata": {
        "id": "vt4GukJ8MJuB"
      },
      "source": [
        "#Importaciones varias para la evaluación\n",
        "\n",
        "from sklearn.metrics import confusion_matrix,accuracy_score,classification_report\n",
        "from sklearn.metrics import plot_confusion_matrix\n",
        "\n",
        "# Configuración de la evaluación\n",
        "\n",
        "def evaluar_modelo(modelo, test_data, test_labels):\n",
        "    prediction = modelo.predict(test_data)\n",
        "    print('Rendimiento obtenido:',accuracy_score(test_labels,prediction))\n",
        "    print('Reporte de indicadores:\\n',classification_report(test_labels,prediction))\n",
        "    print('Matriz de confusión:')\n",
        "    cf = plot_confusion_matrix(modelo,test_data,test_labels,cmap='Blues_r',values_format='d')"
      ],
      "execution_count": 10,
      "outputs": []
    },
    {
      "cell_type": "markdown",
      "metadata": {
        "id": "sSF2VwXFNc2f"
      },
      "source": [
        "#### ZeroR"
      ]
    },
    {
      "cell_type": "code",
      "metadata": {
        "colab": {
          "base_uri": "https://localhost:8080/"
        },
        "id": "2jzAcickMTkZ",
        "outputId": "36965eb8-4c17-4abe-9a20-bd09ba818e54"
      },
      "source": [
        "from sklearn.dummy import DummyClassifier\n",
        "\n",
        "clf = DummyClassifier('most_frequent') # predictores posibles “stratified”, “most_frequent”, “prior”, “uniform”, “constant”}, default=”prior”\n",
        "clf.fit(train_data, train_labels)\n",
        "\n",
        "prediction = clf.predict(test_data)\n",
        "print('Rendimiento obtenido:',accuracy_score(test_labels, prediction))\n",
        "print('Vista de una muestra de valores de predicción y datos de testeo:')\n",
        "print(prediction[:10])\n",
        "print(test_labels[:10])"
      ],
      "execution_count": 11,
      "outputs": [
        {
          "output_type": "stream",
          "name": "stdout",
          "text": [
            "Rendimiento obtenido: 0.9091176470588235\n",
            "Vista de una muestra de valores de predicción y datos de testeo:\n",
            "['T' 'T' 'T' 'T' 'T' 'T' 'T' 'T' 'T' 'T']\n",
            "['T' 'T' 'T' 'T' 'T' 'P' 'T' 'T' 'T' 'T']\n"
          ]
        }
      ]
    },
    {
      "cell_type": "markdown",
      "metadata": {
        "id": "D-6AmycMNuAZ"
      },
      "source": [
        "#### Regresión Logística"
      ]
    },
    {
      "cell_type": "code",
      "metadata": {
        "colab": {
          "base_uri": "https://localhost:8080/"
        },
        "id": "Yjo7SdR_OMkB",
        "outputId": "57461cfc-2760-4e1e-9668-cf976013940e"
      },
      "source": [
        "from sklearn.linear_model import LogisticRegression\n",
        "\n",
        "# Prueba Nro.1\n",
        "\n",
        "lreg = LogisticRegression(C=1.0, class_weight=None, dual=False, fit_intercept=True,\n",
        "               intercept_scaling=1, l1_ratio=None, max_iter=75,\n",
        "               multi_class='multinomial', n_jobs=None, penalty='l2',\n",
        "               random_state=None, solver='newton-cg', tol=0.0001, verbose=0,\n",
        "               warm_start=False) \n",
        "\n",
        "lreg.fit(train_data, train_labels)\n",
        "\n",
        "# multi_class {'auto', 'ovr', 'multinomial'}, predeterminado = 'auto'\n",
        "# solver = 'newton-cg’, ‘lbfgs’, ‘liblinear’, ‘sag’, ‘saga’}, default=’lbfgs’ "
      ],
      "execution_count": 13,
      "outputs": [
        {
          "output_type": "stream",
          "name": "stderr",
          "text": [
            "/usr/local/lib/python3.7/dist-packages/sklearn/utils/optimize.py:212: ConvergenceWarning: newton-cg failed to converge. Increase the number of iterations.\n",
            "  \"number of iterations.\", ConvergenceWarning)\n"
          ]
        },
        {
          "output_type": "execute_result",
          "data": {
            "text/plain": [
              "LogisticRegression(C=1.0, class_weight=None, dual=False, fit_intercept=True,\n",
              "                   intercept_scaling=1, l1_ratio=None, max_iter=75,\n",
              "                   multi_class='multinomial', n_jobs=None, penalty='l2',\n",
              "                   random_state=None, solver='newton-cg', tol=0.0001, verbose=0,\n",
              "                   warm_start=False)"
            ]
          },
          "metadata": {},
          "execution_count": 13
        }
      ]
    },
    {
      "cell_type": "code",
      "metadata": {
        "colab": {
          "base_uri": "https://localhost:8080/"
        },
        "id": "1H20UMDXNvo5",
        "outputId": "225461a8-acac-4422-aeca-48f797175ce0"
      },
      "source": [
        "# Prueba Nro. 2\n",
        "\n",
        "lreg2 = LogisticRegression(C=1.0, class_weight=None, dual=False, fit_intercept=True,\n",
        "                intercept_scaling=1, l1_ratio=None, max_iter=100,\n",
        "                multi_class='auto', n_jobs=None, penalty='l2',\n",
        "                random_state=None, solver='liblinear', tol=0.0001, verbose=0,\n",
        "                warm_start=False)\n",
        "lreg2.fit(train_data, train_labels)"
      ],
      "execution_count": 14,
      "outputs": [
        {
          "output_type": "execute_result",
          "data": {
            "text/plain": [
              "LogisticRegression(C=1.0, class_weight=None, dual=False, fit_intercept=True,\n",
              "                   intercept_scaling=1, l1_ratio=None, max_iter=100,\n",
              "                   multi_class='auto', n_jobs=None, penalty='l2',\n",
              "                   random_state=None, solver='liblinear', tol=0.0001, verbose=0,\n",
              "                   warm_start=False)"
            ]
          },
          "metadata": {},
          "execution_count": 14
        }
      ]
    },
    {
      "cell_type": "code",
      "metadata": {
        "colab": {
          "base_uri": "https://localhost:8080/",
          "height": 483
        },
        "id": "d8PLPlF2Sxcw",
        "outputId": "0a802ec8-b361-4d9c-8297-49f9cc364709"
      },
      "source": [
        "#Prueba Nro. 1\n",
        "evaluar_modelo(lreg, test_data, test_labels)"
      ],
      "execution_count": 15,
      "outputs": [
        {
          "output_type": "stream",
          "name": "stdout",
          "text": [
            "Rendimiento obtenido: 0.9847058823529412\n",
            "Reporte de indicadores:\n",
            "               precision    recall  f1-score   support\n",
            "\n",
            "           P       0.94      0.89      0.91       309\n",
            "           T       0.99      0.99      0.99      3091\n",
            "\n",
            "    accuracy                           0.98      3400\n",
            "   macro avg       0.97      0.94      0.95      3400\n",
            "weighted avg       0.98      0.98      0.98      3400\n",
            "\n",
            "Matriz de confusión:\n"
          ]
        },
        {
          "output_type": "display_data",
          "data": {
            "image/png": "[encoded data removed]",
            "text/plain": [
              "<Figure size 432x288 with 2 Axes>"
            ]
          },
          "metadata": {
            "needs_background": "light"
          }
        }
      ]
    },
    {
      "cell_type": "code",
      "metadata": {
        "colab": {
          "base_uri": "https://localhost:8080/",
          "height": 483
        },
        "id": "RFGaaMpGTB0P",
        "outputId": "4f83bce6-67b9-48c7-aa90-a07f95121642"
      },
      "source": [
        "#Prueba Nro. 2\n",
        "evaluar_modelo(lreg2, test_data, test_labels)"
      ],
      "execution_count": 16,
      "outputs": [
        {
          "output_type": "stream",
          "name": "stdout",
          "text": [
            "Rendimiento obtenido: 0.9782352941176471\n",
            "Reporte de indicadores:\n",
            "               precision    recall  f1-score   support\n",
            "\n",
            "           P       0.94      0.82      0.87       309\n",
            "           T       0.98      0.99      0.99      3091\n",
            "\n",
            "    accuracy                           0.98      3400\n",
            "   macro avg       0.96      0.91      0.93      3400\n",
            "weighted avg       0.98      0.98      0.98      3400\n",
            "\n",
            "Matriz de confusión:\n"
          ]
        },
        {
          "output_type": "display_data",
          "data": {
            "image/png": "[encoded data removed]",
            "text/plain": [
              "<Figure size 432x288 with 2 Axes>"
            ]
          },
          "metadata": {
            "needs_background": "light"
          }
        }
      ]
    },
    {
      "cell_type": "markdown",
      "metadata": {
        "id": "JGBxSZVETY2v"
      },
      "source": [
        "#### KNN"
      ]
    },
    {
      "cell_type": "code",
      "metadata": {
        "colab": {
          "base_uri": "https://localhost:8080/"
        },
        "id": "nGT-HE4WTV_f",
        "outputId": "a8530b52-c324-44de-852a-c56fc14f5e80"
      },
      "source": [
        "from sklearn.neighbors import KNeighborsClassifier\n",
        "\n",
        "knn = KNeighborsClassifier(algorithm='ball_tree', leaf_size=30, metric='minkowski',\n",
        "                     metric_params=None, n_jobs=None, n_neighbors=50, p=2,\n",
        "                     weights='uniform')\n",
        "\n",
        "# knn = KNeighborsClassifier(n_neighbors=25, algorithm = 'ball_tree', metric = 'euclidean') # mejora con 25, defecto 50\n",
        "\n",
        "# algorithm = ‘auto’, ‘ball_tree’, ‘kd_tree’, ‘brute’}, default=’auto’\n",
        "# metric = “euclidean”, “manhattan”, “minkowski”,“mahalanobis”, “chebyshev”\n",
        "\n",
        "knn.fit(train_data, train_labels)"
      ],
      "execution_count": 17,
      "outputs": [
        {
          "output_type": "execute_result",
          "data": {
            "text/plain": [
              "KNeighborsClassifier(algorithm='ball_tree', leaf_size=30, metric='minkowski',\n",
              "                     metric_params=None, n_jobs=None, n_neighbors=50, p=2,\n",
              "                     weights='uniform')"
            ]
          },
          "metadata": {},
          "execution_count": 17
        }
      ]
    },
    {
      "cell_type": "code",
      "metadata": {
        "colab": {
          "base_uri": "https://localhost:8080/",
          "height": 483
        },
        "id": "iUcYOSIRTln_",
        "outputId": "0f29d25e-e58a-4a92-c199-bafbcbc70daa"
      },
      "source": [
        "evaluar_modelo(knn, test_data, test_labels)"
      ],
      "execution_count": 18,
      "outputs": [
        {
          "output_type": "stream",
          "name": "stdout",
          "text": [
            "Rendimiento obtenido: 0.9220588235294118\n",
            "Reporte de indicadores:\n",
            "               precision    recall  f1-score   support\n",
            "\n",
            "           P       0.69      0.26      0.37       309\n",
            "           T       0.93      0.99      0.96      3091\n",
            "\n",
            "    accuracy                           0.92      3400\n",
            "   macro avg       0.81      0.62      0.67      3400\n",
            "weighted avg       0.91      0.92      0.91      3400\n",
            "\n",
            "Matriz de confusión:\n"
          ]
        },
        {
          "output_type": "display_data",
          "data": {
            "image/png": "[encoded data removed]",
            "text/plain": [
              "<Figure size 432x288 with 2 Axes>"
            ]
          },
          "metadata": {
            "needs_background": "light"
          }
        }
      ]
    },
    {
      "cell_type": "markdown",
      "metadata": {
        "id": "HEVO8ajET1Sn"
      },
      "source": [
        "#### ARBOLES DE DECISION"
      ]
    },
    {
      "cell_type": "code",
      "metadata": {
        "colab": {
          "base_uri": "https://localhost:8080/"
        },
        "id": "auE6oAPwT0cn",
        "outputId": "c0236c6b-0ed6-4ce0-e5b1-45394e5aa5d2"
      },
      "source": [
        "from sklearn.tree import DecisionTreeClassifier\n",
        "\n",
        "# Prueba Nro. 1\n",
        "dtc = DecisionTreeClassifier(ccp_alpha=0.0, class_weight=None, criterion='gini',\n",
        "                     max_depth=5, max_features=None, max_leaf_nodes=None,\n",
        "                     min_impurity_decrease=0.0, min_impurity_split=None,\n",
        "                     min_samples_leaf=1, min_samples_split=5,\n",
        "                     min_weight_fraction_leaf=0.0, presort='deprecated',\n",
        "                     random_state=None, splitter='best')\n",
        "\n",
        "dtc.fit(train_data, train_labels)\n",
        "\n",
        "# criterion{“gini”, “entropy”}, default=”gini”\n"
      ],
      "execution_count": 19,
      "outputs": [
        {
          "output_type": "execute_result",
          "data": {
            "text/plain": [
              "DecisionTreeClassifier(ccp_alpha=0.0, class_weight=None, criterion='gini',\n",
              "                       max_depth=5, max_features=None, max_leaf_nodes=None,\n",
              "                       min_impurity_decrease=0.0, min_impurity_split=None,\n",
              "                       min_samples_leaf=1, min_samples_split=5,\n",
              "                       min_weight_fraction_leaf=0.0, presort='deprecated',\n",
              "                       random_state=None, splitter='best')"
            ]
          },
          "metadata": {},
          "execution_count": 19
        }
      ]
    },
    {
      "cell_type": "code",
      "metadata": {
        "colab": {
          "base_uri": "https://localhost:8080/"
        },
        "id": "6-C-wm2vUBY3",
        "outputId": "4ef2c6fb-a1fb-4d91-8379-7c405b218054"
      },
      "source": [
        "# Prueba Nro. 2\n",
        "\n",
        "dtc2 = DecisionTreeClassifier(ccp_alpha=0.0, class_weight=None, criterion='entropy',\n",
        "                       max_depth=5, max_features=None, max_leaf_nodes=None,\n",
        "                       min_impurity_decrease=0.0, min_impurity_split=None,\n",
        "                       min_samples_leaf=1, min_samples_split=5,\n",
        "                       min_weight_fraction_leaf=0.0, presort='deprecated',\n",
        "                       random_state=None, splitter='best')\n",
        "\n",
        "dtc2.fit(train_data, train_labels)"
      ],
      "execution_count": 20,
      "outputs": [
        {
          "output_type": "execute_result",
          "data": {
            "text/plain": [
              "DecisionTreeClassifier(ccp_alpha=0.0, class_weight=None, criterion='entropy',\n",
              "                       max_depth=5, max_features=None, max_leaf_nodes=None,\n",
              "                       min_impurity_decrease=0.0, min_impurity_split=None,\n",
              "                       min_samples_leaf=1, min_samples_split=5,\n",
              "                       min_weight_fraction_leaf=0.0, presort='deprecated',\n",
              "                       random_state=None, splitter='best')"
            ]
          },
          "metadata": {},
          "execution_count": 20
        }
      ]
    },
    {
      "cell_type": "code",
      "metadata": {
        "colab": {
          "base_uri": "https://localhost:8080/",
          "height": 483
        },
        "id": "koELouApULb1",
        "outputId": "f8d55d87-5b0a-447a-ca67-4eee96d6cbcd"
      },
      "source": [
        "# Prueba Nro. 1\n",
        "evaluar_modelo(dtc, test_data, test_labels)"
      ],
      "execution_count": 21,
      "outputs": [
        {
          "output_type": "stream",
          "name": "stdout",
          "text": [
            "Rendimiento obtenido: 1.0\n",
            "Reporte de indicadores:\n",
            "               precision    recall  f1-score   support\n",
            "\n",
            "           P       1.00      1.00      1.00       309\n",
            "           T       1.00      1.00      1.00      3091\n",
            "\n",
            "    accuracy                           1.00      3400\n",
            "   macro avg       1.00      1.00      1.00      3400\n",
            "weighted avg       1.00      1.00      1.00      3400\n",
            "\n",
            "Matriz de confusión:\n"
          ]
        },
        {
          "output_type": "display_data",
          "data": {
            "image/png": "[encoded data removed]",
            "text/plain": [
              "<Figure size 432x288 with 2 Axes>"
            ]
          },
          "metadata": {
            "needs_background": "light"
          }
        }
      ]
    },
    {
      "cell_type": "code",
      "metadata": {
        "colab": {
          "base_uri": "https://localhost:8080/",
          "height": 483
        },
        "id": "nFxHsMv-UL8t",
        "outputId": "314a6852-20e5-4c82-f582-f54bd6b2c664"
      },
      "source": [
        "# Prueba Nro. 2\n",
        "evaluar_modelo(dtc2, test_data, test_labels)"
      ],
      "execution_count": 22,
      "outputs": [
        {
          "output_type": "stream",
          "name": "stdout",
          "text": [
            "Rendimiento obtenido: 1.0\n",
            "Reporte de indicadores:\n",
            "               precision    recall  f1-score   support\n",
            "\n",
            "           P       1.00      1.00      1.00       309\n",
            "           T       1.00      1.00      1.00      3091\n",
            "\n",
            "    accuracy                           1.00      3400\n",
            "   macro avg       1.00      1.00      1.00      3400\n",
            "weighted avg       1.00      1.00      1.00      3400\n",
            "\n",
            "Matriz de confusión:\n"
          ]
        },
        {
          "output_type": "display_data",
          "data": {
            "image/png": "[encoded data removed]",
            "text/plain": [
              "<Figure size 432x288 with 2 Axes>"
            ]
          },
          "metadata": {
            "needs_background": "light"
          }
        }
      ]
    },
    {
      "cell_type": "markdown",
      "metadata": {
        "id": "tGRBgDEhXiZO"
      },
      "source": [
        "### Métodos de ensamblado de modelos: RandomForest"
      ]
    },
    {
      "cell_type": "code",
      "metadata": {
        "colab": {
          "base_uri": "https://localhost:8080/"
        },
        "id": "7fzv_j3TXaEm",
        "outputId": "c08e16b7-6a07-44d3-b177-9adb60b127dc"
      },
      "source": [
        "from sklearn.ensemble import RandomForestClassifier\n",
        "\n",
        "\n",
        "#prueba #1\n",
        "\n",
        "rndf = RandomForestClassifier(bootstrap=True, ccp_alpha=0.0, class_weight=None,\n",
        "                       criterion='entropy', max_depth=None, max_features='sqrt',\n",
        "                       max_leaf_nodes=None, max_samples=None,\n",
        "                       min_impurity_decrease=0.0, min_impurity_split=None,\n",
        "                       min_samples_leaf=1, min_samples_split=2,\n",
        "                       min_weight_fraction_leaf=0.0, n_estimators=10,\n",
        "                       n_jobs=None, oob_score=False, random_state=None,\n",
        "                       verbose=0, warm_start=False)\n",
        "\n",
        "rndf.fit(train_data, train_labels)\n",
        "\n",
        "#max_features {\"auto\", \"sqrt\", \"log2\"}, int o float, predeterminado = \"auto\"\n",
        "\n",
        "\n"
      ],
      "execution_count": 23,
      "outputs": [
        {
          "output_type": "execute_result",
          "data": {
            "text/plain": [
              "RandomForestClassifier(bootstrap=True, ccp_alpha=0.0, class_weight=None,\n",
              "                       criterion='entropy', max_depth=None, max_features='sqrt',\n",
              "                       max_leaf_nodes=None, max_samples=None,\n",
              "                       min_impurity_decrease=0.0, min_impurity_split=None,\n",
              "                       min_samples_leaf=1, min_samples_split=2,\n",
              "                       min_weight_fraction_leaf=0.0, n_estimators=10,\n",
              "                       n_jobs=None, oob_score=False, random_state=None,\n",
              "                       verbose=0, warm_start=False)"
            ]
          },
          "metadata": {},
          "execution_count": 23
        }
      ]
    },
    {
      "cell_type": "code",
      "metadata": {
        "colab": {
          "base_uri": "https://localhost:8080/"
        },
        "id": "-6D3ZQfGXsle",
        "outputId": "9ba12571-ced3-4ff5-f777-ce7d002d2084"
      },
      "source": [
        "#prueba #2\n",
        "\n",
        "rndf2 = RandomForestClassifier(bootstrap=True, ccp_alpha=0.0, class_weight=None,\n",
        "                       criterion='gini', max_depth=None, max_features='auto',\n",
        "                       max_leaf_nodes=None, max_samples=None,\n",
        "                       min_impurity_decrease=0.0, min_impurity_split=None,\n",
        "                       min_samples_leaf=1, min_samples_split=2,\n",
        "                       min_weight_fraction_leaf=0.0, n_estimators=15,\n",
        "                       n_jobs=None, oob_score=False, random_state=None,\n",
        "                       verbose=0, warm_start=False)\n",
        "rndf2.fit(train_data, train_labels)"
      ],
      "execution_count": 24,
      "outputs": [
        {
          "output_type": "execute_result",
          "data": {
            "text/plain": [
              "RandomForestClassifier(bootstrap=True, ccp_alpha=0.0, class_weight=None,\n",
              "                       criterion='gini', max_depth=None, max_features='auto',\n",
              "                       max_leaf_nodes=None, max_samples=None,\n",
              "                       min_impurity_decrease=0.0, min_impurity_split=None,\n",
              "                       min_samples_leaf=1, min_samples_split=2,\n",
              "                       min_weight_fraction_leaf=0.0, n_estimators=15,\n",
              "                       n_jobs=None, oob_score=False, random_state=None,\n",
              "                       verbose=0, warm_start=False)"
            ]
          },
          "metadata": {},
          "execution_count": 24
        }
      ]
    },
    {
      "cell_type": "code",
      "metadata": {
        "colab": {
          "base_uri": "https://localhost:8080/",
          "height": 483
        },
        "id": "MZnKc8QmXuCO",
        "outputId": "9ae998d5-7cf9-4c12-c38a-12dad9bf6fb9"
      },
      "source": [
        "# Prueba #1\n",
        "\n",
        "evaluar_modelo(rndf, test_data, test_labels)"
      ],
      "execution_count": 25,
      "outputs": [
        {
          "output_type": "stream",
          "name": "stdout",
          "text": [
            "Rendimiento obtenido: 1.0\n",
            "Reporte de indicadores:\n",
            "               precision    recall  f1-score   support\n",
            "\n",
            "           P       1.00      1.00      1.00       309\n",
            "           T       1.00      1.00      1.00      3091\n",
            "\n",
            "    accuracy                           1.00      3400\n",
            "   macro avg       1.00      1.00      1.00      3400\n",
            "weighted avg       1.00      1.00      1.00      3400\n",
            "\n",
            "Matriz de confusión:\n"
          ]
        },
        {
          "output_type": "display_data",
          "data": {
            "image/png": "[encoded data removed]",
            "text/plain": [
              "<Figure size 432x288 with 2 Axes>"
            ]
          },
          "metadata": {
            "needs_background": "light"
          }
        }
      ]
    },
    {
      "cell_type": "code",
      "metadata": {
        "colab": {
          "base_uri": "https://localhost:8080/",
          "height": 483
        },
        "id": "QCW0gbLGXue-",
        "outputId": "66af52dc-20ea-4250-c051-ee2cd666f7b6"
      },
      "source": [
        "# Prueba #2\n",
        "\n",
        "evaluar_modelo(rndf2, test_data, test_labels)"
      ],
      "execution_count": 26,
      "outputs": [
        {
          "output_type": "stream",
          "name": "stdout",
          "text": [
            "Rendimiento obtenido: 1.0\n",
            "Reporte de indicadores:\n",
            "               precision    recall  f1-score   support\n",
            "\n",
            "           P       1.00      1.00      1.00       309\n",
            "           T       1.00      1.00      1.00      3091\n",
            "\n",
            "    accuracy                           1.00      3400\n",
            "   macro avg       1.00      1.00      1.00      3400\n",
            "weighted avg       1.00      1.00      1.00      3400\n",
            "\n",
            "Matriz de confusión:\n"
          ]
        },
        {
          "output_type": "display_data",
          "data": {
            "image/png": "[encoded data removed]",
            "text/plain": [
              "<Figure size 432x288 with 2 Axes>"
            ]
          },
          "metadata": {
            "needs_background": "light"
          }
        }
      ]
    },
    {
      "cell_type": "code",
      "metadata": {
        "colab": {
          "base_uri": "https://localhost:8080/"
        },
        "id": "txOLJLV-YG9B",
        "outputId": "688b8d21-4962-4514-979d-8a4a07575cc0"
      },
      "source": [
        "from sklearn.ensemble import GradientBoostingClassifier\n",
        "\n",
        "\n",
        "# prueba #1\n",
        "\n",
        "gbc = GradientBoostingClassifier(ccp_alpha=0.0, criterion='friedman_mse', init=None,\n",
        "                         learning_rate=1.0, loss='deviance', max_depth=1,\n",
        "                         max_features=None, max_leaf_nodes=None,\n",
        "                         min_impurity_decrease=0.0, min_impurity_split=None,\n",
        "                         min_samples_leaf=1, min_samples_split=2,\n",
        "                         min_weight_fraction_leaf=0.0, n_estimators=100,\n",
        "                         n_iter_no_change=None, presort='deprecated',\n",
        "                         random_state=0, subsample=1.0, tol=0.0001,\n",
        "                         validation_fraction=0.1, verbose=0,\n",
        "                         warm_start=False)\n",
        "\n",
        "gbc.fit(train_data, train_labels)\n",
        "\n",
        "# criterio {'friedman_mse', 'mse', 'mae'}, predeterminado = 'friedman_mse'\n",
        "# max_features {'auto', 'sqrt', 'log2'}, int o float, predeterminado = Ninguno\n"
      ],
      "execution_count": 27,
      "outputs": [
        {
          "output_type": "execute_result",
          "data": {
            "text/plain": [
              "GradientBoostingClassifier(ccp_alpha=0.0, criterion='friedman_mse', init=None,\n",
              "                           learning_rate=1.0, loss='deviance', max_depth=1,\n",
              "                           max_features=None, max_leaf_nodes=None,\n",
              "                           min_impurity_decrease=0.0, min_impurity_split=None,\n",
              "                           min_samples_leaf=1, min_samples_split=2,\n",
              "                           min_weight_fraction_leaf=0.0, n_estimators=100,\n",
              "                           n_iter_no_change=None, presort='deprecated',\n",
              "                           random_state=0, subsample=1.0, tol=0.0001,\n",
              "                           validation_fraction=0.1, verbose=0,\n",
              "                           warm_start=False)"
            ]
          },
          "metadata": {},
          "execution_count": 27
        }
      ]
    },
    {
      "cell_type": "code",
      "metadata": {
        "colab": {
          "base_uri": "https://localhost:8080/"
        },
        "id": "zHzeUT99YHYL",
        "outputId": "811364dc-25d7-431c-9cc3-fd6877c48bf3"
      },
      "source": [
        "# prueba #2\n",
        "\n",
        "gbc2 = GradientBoostingClassifier(ccp_alpha=0.0, criterion='mae', init=None,\n",
        "                           learning_rate=1.0, loss='deviance', max_depth=1,\n",
        "                           max_features='sqrt', max_leaf_nodes=None,\n",
        "                           min_impurity_decrease=0.0, min_impurity_split=None,\n",
        "                           min_samples_leaf=1, min_samples_split=2,\n",
        "                           min_weight_fraction_leaf=0.0, n_estimators=100,\n",
        "                           n_iter_no_change=None, presort='deprecated',\n",
        "                           random_state=0, subsample=1.0, tol=0.0001,\n",
        "                           validation_fraction=0.1, verbose=0,\n",
        "                           warm_start=False)\n",
        "\n",
        "gbc2.fit(train_data, train_labels)\n"
      ],
      "execution_count": 28,
      "outputs": [
        {
          "output_type": "execute_result",
          "data": {
            "text/plain": [
              "GradientBoostingClassifier(ccp_alpha=0.0, criterion='mae', init=None,\n",
              "                           learning_rate=1.0, loss='deviance', max_depth=1,\n",
              "                           max_features='sqrt', max_leaf_nodes=None,\n",
              "                           min_impurity_decrease=0.0, min_impurity_split=None,\n",
              "                           min_samples_leaf=1, min_samples_split=2,\n",
              "                           min_weight_fraction_leaf=0.0, n_estimators=100,\n",
              "                           n_iter_no_change=None, presort='deprecated',\n",
              "                           random_state=0, subsample=1.0, tol=0.0001,\n",
              "                           validation_fraction=0.1, verbose=0,\n",
              "                           warm_start=False)"
            ]
          },
          "metadata": {},
          "execution_count": 28
        }
      ]
    },
    {
      "cell_type": "code",
      "metadata": {
        "colab": {
          "base_uri": "https://localhost:8080/"
        },
        "id": "etCGkrlvYHm7",
        "outputId": "cfafc616-c543-40c2-ba58-cd202aa5fe83"
      },
      "source": [
        "# prueba #3\n",
        "\n",
        "gbc3 = GradientBoostingClassifier(ccp_alpha=0.0, criterion='mae', init=None,\n",
        "                           learning_rate=1.0, loss='deviance', max_depth=1,\n",
        "                           max_features='auto', max_leaf_nodes=None,\n",
        "                           min_impurity_decrease=0.0, min_impurity_split=None,\n",
        "                           min_samples_leaf=1, min_samples_split=2,\n",
        "                           min_weight_fraction_leaf=0.0, n_estimators=200,\n",
        "                           n_iter_no_change=None, presort='deprecated',\n",
        "                           random_state=0, subsample=1.0, tol=0.0001,\n",
        "                           validation_fraction=0.1, verbose=0,\n",
        "                           warm_start=False)\n",
        "\n",
        "gbc3.fit(train_data, train_labels)\n"
      ],
      "execution_count": 29,
      "outputs": [
        {
          "output_type": "execute_result",
          "data": {
            "text/plain": [
              "GradientBoostingClassifier(ccp_alpha=0.0, criterion='mae', init=None,\n",
              "                           learning_rate=1.0, loss='deviance', max_depth=1,\n",
              "                           max_features='auto', max_leaf_nodes=None,\n",
              "                           min_impurity_decrease=0.0, min_impurity_split=None,\n",
              "                           min_samples_leaf=1, min_samples_split=2,\n",
              "                           min_weight_fraction_leaf=0.0, n_estimators=200,\n",
              "                           n_iter_no_change=None, presort='deprecated',\n",
              "                           random_state=0, subsample=1.0, tol=0.0001,\n",
              "                           validation_fraction=0.1, verbose=0,\n",
              "                           warm_start=False)"
            ]
          },
          "metadata": {},
          "execution_count": 29
        }
      ]
    },
    {
      "cell_type": "code",
      "metadata": {
        "id": "umU3QIfqYH1E",
        "colab": {
          "base_uri": "https://localhost:8080/",
          "height": 483
        },
        "outputId": "75e1c733-67d9-4a62-f1c2-862594cb11da"
      },
      "source": [
        "# Pruena #1\n",
        "\n",
        "evaluar_modelo(gbc, test_data, test_labels)"
      ],
      "execution_count": 30,
      "outputs": [
        {
          "output_type": "stream",
          "name": "stdout",
          "text": [
            "Rendimiento obtenido: 0.9991176470588236\n",
            "Reporte de indicadores:\n",
            "               precision    recall  f1-score   support\n",
            "\n",
            "           P       1.00      0.99      1.00       309\n",
            "           T       1.00      1.00      1.00      3091\n",
            "\n",
            "    accuracy                           1.00      3400\n",
            "   macro avg       1.00      1.00      1.00      3400\n",
            "weighted avg       1.00      1.00      1.00      3400\n",
            "\n",
            "Matriz de confusión:\n"
          ]
        },
        {
          "output_type": "display_data",
          "data": {
            "image/png": "[encoded data removed]",
            "text/plain": [
              "<Figure size 432x288 with 2 Axes>"
            ]
          },
          "metadata": {
            "needs_background": "light"
          }
        }
      ]
    },
    {
      "cell_type": "code",
      "metadata": {
        "id": "GjlMepvyYjY9",
        "colab": {
          "base_uri": "https://localhost:8080/",
          "height": 483
        },
        "outputId": "3fa38e9f-762a-423f-aa5c-38559a62e05e"
      },
      "source": [
        "# Pruena #2\n",
        "\n",
        "evaluar_modelo(gbc2, test_data, test_labels)"
      ],
      "execution_count": 31,
      "outputs": [
        {
          "output_type": "stream",
          "name": "stdout",
          "text": [
            "Rendimiento obtenido: 1.0\n",
            "Reporte de indicadores:\n",
            "               precision    recall  f1-score   support\n",
            "\n",
            "           P       1.00      1.00      1.00       309\n",
            "           T       1.00      1.00      1.00      3091\n",
            "\n",
            "    accuracy                           1.00      3400\n",
            "   macro avg       1.00      1.00      1.00      3400\n",
            "weighted avg       1.00      1.00      1.00      3400\n",
            "\n",
            "Matriz de confusión:\n"
          ]
        },
        {
          "output_type": "display_data",
          "data": {
            "image/png": "[encoded data removed]",
            "text/plain": [
              "<Figure size 432x288 with 2 Axes>"
            ]
          },
          "metadata": {
            "needs_background": "light"
          }
        }
      ]
    },
    {
      "cell_type": "code",
      "metadata": {
        "id": "zBkbiKeeYj6G",
        "colab": {
          "base_uri": "https://localhost:8080/",
          "height": 483
        },
        "outputId": "67aa7b41-0f54-48fd-a94a-2b498831b98c"
      },
      "source": [
        "# Pruena #3\n",
        "\n",
        "evaluar_modelo(gbc3, test_data, test_labels)"
      ],
      "execution_count": 32,
      "outputs": [
        {
          "output_type": "stream",
          "name": "stdout",
          "text": [
            "Rendimiento obtenido: 0.9991176470588236\n",
            "Reporte de indicadores:\n",
            "               precision    recall  f1-score   support\n",
            "\n",
            "           P       1.00      0.99      1.00       309\n",
            "           T       1.00      1.00      1.00      3091\n",
            "\n",
            "    accuracy                           1.00      3400\n",
            "   macro avg       1.00      1.00      1.00      3400\n",
            "weighted avg       1.00      1.00      1.00      3400\n",
            "\n",
            "Matriz de confusión:\n"
          ]
        },
        {
          "output_type": "display_data",
          "data": {
            "image/png": "[encoded data removed]",
            "text/plain": [
              "<Figure size 432x288 with 2 Axes>"
            ]
          },
          "metadata": {
            "needs_background": "light"
          }
        }
      ]
    },
    {
      "cell_type": "code",
      "metadata": {
        "colab": {
          "resources": {
            "http://localhost:8080/nbextensions/google.colab/files.js": {
              "data": "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",
              "ok": true,
              "headers": [
                [
                  "content-type",
                  "application/javascript"
                ]
              ],
              "status": 200,
              "status_text": ""
            }
          },
          "base_uri": "https://localhost:8080/",
          "height": 313
        },
        "id": "ySLK8HsZBhmG",
        "outputId": "61c75ac3-b1b3-481c-e27f-83a722ee8a87"
      },
      "source": [
        "# Cargamos los datos del dataset resultante del la exploración de los datos \"datos_completos_dedupped_train_test.csv\", Enlace: https://github.com/pacogp/TFM\n",
        "\n",
        "datos_Nuevos = upload_files()\n",
        "datos_Nuevos.head()"
      ],
      "execution_count": 33,
      "outputs": [
        {
          "output_type": "display_data",
          "data": {
            "text/html": [
              "\n",
              "     <input type=\"file\" id=\"files-fe5779e4-86ce-4802-bb73-b47314bd6ab1\" name=\"files[]\" multiple disabled\n",
              "        style=\"border:none\" />\n",
              "     <output id=\"result-fe5779e4-86ce-4802-bb73-b47314bd6ab1\">\n",
              "      Upload widget is only available when the cell has been executed in the\n",
              "      current browser session. Please rerun this cell to enable.\n",
              "      </output>\n",
              "      <script src=\"/nbextensions/google.colab/files.js\"></script> "
            ],
            "text/plain": [
              "<IPython.core.display.HTML object>"
            ]
          },
          "metadata": {}
        },
        {
          "output_type": "stream",
          "name": "stdout",
          "text": [
            "Saving datos_completos_dedupped_validacion.csv to datos_completos_dedupped_validacion.csv\n",
            "User uploaded file \"datos_completos_dedupped_validacion.csv\" with length 483278 bytes\n"
          ]
        },
        {
          "output_type": "execute_result",
          "data": {
            "text/html": [
              "<div>\n",
              "<style scoped>\n",
              "    .dataframe tbody tr th:only-of-type {\n",
              "        vertical-align: middle;\n",
              "    }\n",
              "\n",
              "    .dataframe tbody tr th {\n",
              "        vertical-align: top;\n",
              "    }\n",
              "\n",
              "    .dataframe thead th {\n",
              "        text-align: right;\n",
              "    }\n",
              "</style>\n",
              "<table border=\"1\" class=\"dataframe\">\n",
              "  <thead>\n",
              "    <tr style=\"text-align: right;\">\n",
              "      <th></th>\n",
              "      <th>CLIENTE</th>\n",
              "      <th>MODELO</th>\n",
              "      <th>NUM_PLAZAS</th>\n",
              "      <th>MECANISMO_MODULO</th>\n",
              "      <th>IMPORTE_LINEA</th>\n",
              "      <th>CATEGORIA</th>\n",
              "      <th>TIPO_TAPICERIA</th>\n",
              "      <th>COSTE_TAPIZADO_AGRUP</th>\n",
              "      <th>P_COSTE</th>\n",
              "      <th>MARGEN_UDS_LINEA</th>\n",
              "      <th>DTO_FAMILIA</th>\n",
              "      <th>I_COMISION</th>\n",
              "      <th>I_BRUTO</th>\n",
              "      <th>DTO_PP</th>\n",
              "      <th>DTO_LINEAS</th>\n",
              "      <th>MARGEN_BRUTO</th>\n",
              "      <th>PROVINCIA</th>\n",
              "      <th>COD_COMUNIDAD</th>\n",
              "      <th>HIPOTECA</th>\n",
              "      <th>INDENCIAS_CLIENTE</th>\n",
              "      <th>PIB_VALOR_EUROS</th>\n",
              "      <th>PARO_2020T3</th>\n",
              "      <th>status_cliente</th>\n",
              "    </tr>\n",
              "  </thead>\n",
              "  <tbody>\n",
              "    <tr>\n",
              "      <th>0</th>\n",
              "      <td>4775</td>\n",
              "      <td>44</td>\n",
              "      <td>100</td>\n",
              "      <td>1</td>\n",
              "      <td>358.4</td>\n",
              "      <td>0</td>\n",
              "      <td>T</td>\n",
              "      <td>41.03</td>\n",
              "      <td>111.93</td>\n",
              "      <td>205.45</td>\n",
              "      <td>7.0</td>\n",
              "      <td>80.92</td>\n",
              "      <td>1268.4</td>\n",
              "      <td>23.59</td>\n",
              "      <td>88.79</td>\n",
              "      <td>1156.02</td>\n",
              "      <td>20</td>\n",
              "      <td>16.0</td>\n",
              "      <td>0.2610</td>\n",
              "      <td>105.0</td>\n",
              "      <td>32015.0</td>\n",
              "      <td>8.47</td>\n",
              "      <td>11.744111</td>\n",
              "    </tr>\n",
              "    <tr>\n",
              "      <th>1</th>\n",
              "      <td>4775</td>\n",
              "      <td>10</td>\n",
              "      <td>300</td>\n",
              "      <td>2</td>\n",
              "      <td>411.6</td>\n",
              "      <td>0</td>\n",
              "      <td>T</td>\n",
              "      <td>72.94</td>\n",
              "      <td>93.69</td>\n",
              "      <td>244.97</td>\n",
              "      <td>7.0</td>\n",
              "      <td>51.00</td>\n",
              "      <td>799.4</td>\n",
              "      <td>14.87</td>\n",
              "      <td>55.96</td>\n",
              "      <td>728.57</td>\n",
              "      <td>20</td>\n",
              "      <td>16.0</td>\n",
              "      <td>0.2610</td>\n",
              "      <td>105.0</td>\n",
              "      <td>32015.0</td>\n",
              "      <td>8.47</td>\n",
              "      <td>11.744111</td>\n",
              "    </tr>\n",
              "    <tr>\n",
              "      <th>2</th>\n",
              "      <td>4775</td>\n",
              "      <td>10</td>\n",
              "      <td>100</td>\n",
              "      <td>1</td>\n",
              "      <td>387.8</td>\n",
              "      <td>0</td>\n",
              "      <td>T</td>\n",
              "      <td>72.94</td>\n",
              "      <td>78.22</td>\n",
              "      <td>236.64</td>\n",
              "      <td>7.0</td>\n",
              "      <td>51.00</td>\n",
              "      <td>799.4</td>\n",
              "      <td>14.87</td>\n",
              "      <td>55.96</td>\n",
              "      <td>728.57</td>\n",
              "      <td>20</td>\n",
              "      <td>16.0</td>\n",
              "      <td>0.2610</td>\n",
              "      <td>105.0</td>\n",
              "      <td>32015.0</td>\n",
              "      <td>8.47</td>\n",
              "      <td>11.744111</td>\n",
              "    </tr>\n",
              "    <tr>\n",
              "      <th>3</th>\n",
              "      <td>5860</td>\n",
              "      <td>26</td>\n",
              "      <td>200</td>\n",
              "      <td>0</td>\n",
              "      <td>469.0</td>\n",
              "      <td>2</td>\n",
              "      <td>T</td>\n",
              "      <td>18.19</td>\n",
              "      <td>182.99</td>\n",
              "      <td>267.82</td>\n",
              "      <td>5.0</td>\n",
              "      <td>23.45</td>\n",
              "      <td>469.0</td>\n",
              "      <td>0.00</td>\n",
              "      <td>0.00</td>\n",
              "      <td>469.00</td>\n",
              "      <td>11</td>\n",
              "      <td>1.0</td>\n",
              "      <td>0.2673</td>\n",
              "      <td>31.0</td>\n",
              "      <td>17231.0</td>\n",
              "      <td>21.75</td>\n",
              "      <td>9.777893</td>\n",
              "    </tr>\n",
              "    <tr>\n",
              "      <th>4</th>\n",
              "      <td>5878</td>\n",
              "      <td>38</td>\n",
              "      <td>100</td>\n",
              "      <td>2</td>\n",
              "      <td>379.4</td>\n",
              "      <td>0</td>\n",
              "      <td>T</td>\n",
              "      <td>44.02</td>\n",
              "      <td>125.47</td>\n",
              "      <td>209.91</td>\n",
              "      <td>6.0</td>\n",
              "      <td>64.74</td>\n",
              "      <td>1405.6</td>\n",
              "      <td>26.43</td>\n",
              "      <td>84.34</td>\n",
              "      <td>1294.84</td>\n",
              "      <td>37</td>\n",
              "      <td>7.0</td>\n",
              "      <td>0.2449</td>\n",
              "      <td>16.0</td>\n",
              "      <td>20654.0</td>\n",
              "      <td>10.98</td>\n",
              "      <td>21.910210</td>\n",
              "    </tr>\n",
              "  </tbody>\n",
              "</table>\n",
              "</div>"
            ],
            "text/plain": [
              "   CLIENTE  MODELO  NUM_PLAZAS  ...  PIB_VALOR_EUROS  PARO_2020T3  status_cliente\n",
              "0     4775      44         100  ...          32015.0         8.47       11.744111\n",
              "1     4775      10         300  ...          32015.0         8.47       11.744111\n",
              "2     4775      10         100  ...          32015.0         8.47       11.744111\n",
              "3     5860      26         200  ...          17231.0        21.75        9.777893\n",
              "4     5878      38         100  ...          20654.0        10.98       21.910210\n",
              "\n",
              "[5 rows x 23 columns]"
            ]
          },
          "metadata": {},
          "execution_count": 33
        }
      ]
    },
    {
      "cell_type": "code",
      "metadata": {
        "colab": {
          "base_uri": "https://localhost:8080/",
          "height": 224
        },
        "id": "pXtFQ0VeFXdk",
        "outputId": "15d19c2f-43ed-47f6-8d49-02b515dc6a0a"
      },
      "source": [
        "datosNuevos_codif = datos_Nuevos[['CLIENTE', 'I_BRUTO', 'MARGEN_BRUTO', 'PIB_VALOR_EUROS', \n",
        "                 'DTO_LINEAS', 'IMPORTE_LINEA', 'status_cliente', \n",
        "                 'MARGEN_UDS_LINEA', 'I_COMISION', 'DTO_PP', 'CATEGORIA']]\n",
        "datosNuevos_codif.head()"
      ],
      "execution_count": 35,
      "outputs": [
        {
          "output_type": "execute_result",
          "data": {
            "text/html": [
              "<div>\n",
              "<style scoped>\n",
              "    .dataframe tbody tr th:only-of-type {\n",
              "        vertical-align: middle;\n",
              "    }\n",
              "\n",
              "    .dataframe tbody tr th {\n",
              "        vertical-align: top;\n",
              "    }\n",
              "\n",
              "    .dataframe thead th {\n",
              "        text-align: right;\n",
              "    }\n",
              "</style>\n",
              "<table border=\"1\" class=\"dataframe\">\n",
              "  <thead>\n",
              "    <tr style=\"text-align: right;\">\n",
              "      <th></th>\n",
              "      <th>CLIENTE</th>\n",
              "      <th>I_BRUTO</th>\n",
              "      <th>MARGEN_BRUTO</th>\n",
              "      <th>PIB_VALOR_EUROS</th>\n",
              "      <th>DTO_LINEAS</th>\n",
              "      <th>IMPORTE_LINEA</th>\n",
              "      <th>status_cliente</th>\n",
              "      <th>MARGEN_UDS_LINEA</th>\n",
              "      <th>I_COMISION</th>\n",
              "      <th>DTO_PP</th>\n",
              "      <th>CATEGORIA</th>\n",
              "    </tr>\n",
              "  </thead>\n",
              "  <tbody>\n",
              "    <tr>\n",
              "      <th>0</th>\n",
              "      <td>4775</td>\n",
              "      <td>1268.4</td>\n",
              "      <td>1156.02</td>\n",
              "      <td>32015.0</td>\n",
              "      <td>88.79</td>\n",
              "      <td>358.4</td>\n",
              "      <td>11.744111</td>\n",
              "      <td>205.45</td>\n",
              "      <td>80.92</td>\n",
              "      <td>23.59</td>\n",
              "      <td>0</td>\n",
              "    </tr>\n",
              "    <tr>\n",
              "      <th>1</th>\n",
              "      <td>4775</td>\n",
              "      <td>799.4</td>\n",
              "      <td>728.57</td>\n",
              "      <td>32015.0</td>\n",
              "      <td>55.96</td>\n",
              "      <td>411.6</td>\n",
              "      <td>11.744111</td>\n",
              "      <td>244.97</td>\n",
              "      <td>51.00</td>\n",
              "      <td>14.87</td>\n",
              "      <td>0</td>\n",
              "    </tr>\n",
              "    <tr>\n",
              "      <th>2</th>\n",
              "      <td>4775</td>\n",
              "      <td>799.4</td>\n",
              "      <td>728.57</td>\n",
              "      <td>32015.0</td>\n",
              "      <td>55.96</td>\n",
              "      <td>387.8</td>\n",
              "      <td>11.744111</td>\n",
              "      <td>236.64</td>\n",
              "      <td>51.00</td>\n",
              "      <td>14.87</td>\n",
              "      <td>0</td>\n",
              "    </tr>\n",
              "    <tr>\n",
              "      <th>3</th>\n",
              "      <td>5860</td>\n",
              "      <td>469.0</td>\n",
              "      <td>469.00</td>\n",
              "      <td>17231.0</td>\n",
              "      <td>0.00</td>\n",
              "      <td>469.0</td>\n",
              "      <td>9.777893</td>\n",
              "      <td>267.82</td>\n",
              "      <td>23.45</td>\n",
              "      <td>0.00</td>\n",
              "      <td>2</td>\n",
              "    </tr>\n",
              "    <tr>\n",
              "      <th>4</th>\n",
              "      <td>5878</td>\n",
              "      <td>1405.6</td>\n",
              "      <td>1294.84</td>\n",
              "      <td>20654.0</td>\n",
              "      <td>84.34</td>\n",
              "      <td>379.4</td>\n",
              "      <td>21.910210</td>\n",
              "      <td>209.91</td>\n",
              "      <td>64.74</td>\n",
              "      <td>26.43</td>\n",
              "      <td>0</td>\n",
              "    </tr>\n",
              "  </tbody>\n",
              "</table>\n",
              "</div>"
            ],
            "text/plain": [
              "   CLIENTE  I_BRUTO  MARGEN_BRUTO  ...  I_COMISION  DTO_PP  CATEGORIA\n",
              "0     4775   1268.4       1156.02  ...       80.92   23.59          0\n",
              "1     4775    799.4        728.57  ...       51.00   14.87          0\n",
              "2     4775    799.4        728.57  ...       51.00   14.87          0\n",
              "3     5860    469.0        469.00  ...       23.45    0.00          2\n",
              "4     5878   1405.6       1294.84  ...       64.74   26.43          0\n",
              "\n",
              "[5 rows x 11 columns]"
            ]
          },
          "metadata": {},
          "execution_count": 35
        }
      ]
    },
    {
      "cell_type": "code",
      "metadata": {
        "colab": {
          "base_uri": "https://localhost:8080/"
        },
        "id": "Lv8faxhwFtBK",
        "outputId": "a1d1d1bc-14fc-4c04-fa75-b568d738ac0c"
      },
      "source": [
        "# Dado que puede haber diferencias con el set de entrenamiento se emparejan\n",
        "\n",
        "columnas_faltantes = set(features.columns) - set(datosNuevos_codif.columns)\n",
        "columnas_faltantes\n",
        "for columna in columnas_faltantes:\n",
        "    datosNuevos_codif[columna] = 0 # Se agregan las columnas faltantes con valor 0\n",
        "\n",
        "print('Datos nuevos: ' + str(len(datosNuevos_codif.columns)))\n",
        "print('Datos entrenamiento: ' + str(len(features.columns)))\n",
        "print(set(features.columns) - set(datosNuevos_codif.columns))"
      ],
      "execution_count": 37,
      "outputs": [
        {
          "output_type": "stream",
          "name": "stdout",
          "text": [
            "Datos nuevos: 11\n",
            "Datos entrenamiento: 11\n",
            "set()\n"
          ]
        }
      ]
    },
    {
      "cell_type": "code",
      "metadata": {
        "colab": {
          "base_uri": "https://localhost:8080/"
        },
        "id": "zZTLy4roHwAb",
        "outputId": "2a67aba8-7ca1-406d-8374-81b34a510d8a"
      },
      "source": [
        "# Finalmente, se tiene que adaptar el orden de las columnas \n",
        "\n",
        "datosNuevos_codif = datosNuevos_codif[features.columns]\n",
        "datosNuevos_codif.columns"
      ],
      "execution_count": 38,
      "outputs": [
        {
          "output_type": "execute_result",
          "data": {
            "text/plain": [
              "Index(['CLIENTE', 'I_BRUTO', 'MARGEN_BRUTO', 'PIB_VALOR_EUROS', 'DTO_LINEAS',\n",
              "       'IMPORTE_LINEA', 'status_cliente', 'MARGEN_UDS_LINEA', 'I_COMISION',\n",
              "       'DTO_PP', 'CATEGORIA'],\n",
              "      dtype='object')"
            ]
          },
          "metadata": {},
          "execution_count": 38
        }
      ]
    },
    {
      "cell_type": "markdown",
      "metadata": {
        "id": "vTmqd0DHH75I"
      },
      "source": [
        "### Predicción de valores en el dataset nuevo "
      ]
    },
    {
      "cell_type": "code",
      "metadata": {
        "colab": {
          "base_uri": "https://localhost:8080/"
        },
        "id": "DX86YVFMIBXL",
        "outputId": "87d503fd-5bc8-4693-8d27-01a9cd8b61d2"
      },
      "source": [
        "nuevos = datosNuevos_codif.values\n",
        "nuevos"
      ],
      "execution_count": 39,
      "outputs": [
        {
          "output_type": "execute_result",
          "data": {
            "text/plain": [
              "array([[4.77500e+03, 1.26840e+03, 1.15602e+03, ..., 8.09200e+01,\n",
              "        2.35900e+01, 0.00000e+00],\n",
              "       [4.77500e+03, 7.99400e+02, 7.28570e+02, ..., 5.10000e+01,\n",
              "        1.48700e+01, 0.00000e+00],\n",
              "       [4.77500e+03, 7.99400e+02, 7.28570e+02, ..., 5.10000e+01,\n",
              "        1.48700e+01, 0.00000e+00],\n",
              "       ...,\n",
              "       [9.75800e+03, 2.15127e+03, 1.98240e+03, ..., 1.38790e+02,\n",
              "        0.00000e+00, 1.00000e+00],\n",
              "       [9.75800e+03, 2.15127e+03, 1.98240e+03, ..., 1.38790e+02,\n",
              "        0.00000e+00, 1.00000e+00],\n",
              "       [9.75800e+03, 2.15127e+03, 1.98240e+03, ..., 1.38790e+02,\n",
              "        0.00000e+00, 1.00000e+00]])"
            ]
          },
          "metadata": {},
          "execution_count": 39
        }
      ]
    },
    {
      "cell_type": "markdown",
      "metadata": {
        "id": "iyigRQKoIM4L"
      },
      "source": [
        "### Cálculo de modelo de las diferentes técnicas"
      ]
    },
    {
      "cell_type": "code",
      "metadata": {
        "colab": {
          "base_uri": "https://localhost:8080/"
        },
        "id": "LJRxsjtAIOSC",
        "outputId": "c34890fe-26c7-4ca3-8041-e795c4d5940f"
      },
      "source": [
        "from sklearn.linear_model import LogisticRegression\n",
        "from sklearn.tree import DecisionTreeClassifier\n",
        "from sklearn.ensemble import RandomForestClassifier\n",
        "from sklearn.ensemble import GradientBoostingClassifier\n",
        "\n",
        "\n",
        "# ver los modelos comparativos con mejores score\n",
        "\n",
        "# LogisticRegression - prueba #2\n",
        "\n",
        "lreg2 = LogisticRegression(C=1.0, class_weight=None, dual=False, fit_intercept=True,\n",
        "                intercept_scaling=1, l1_ratio=None, max_iter=100,\n",
        "                multi_class='auto', n_jobs=None, penalty='l2',\n",
        "                random_state=None, solver='liblinear', tol=0.0001, verbose=0,\n",
        "                warm_start=False)  \n",
        "\n",
        "lreg2.fit(train_data, train_labels)\n",
        "\n",
        "\n",
        "# DecisionTreeClassifier - prueba #2\n",
        "\n",
        "dtc2 = DecisionTreeClassifier(ccp_alpha=0.0, class_weight=None, criterion='entropy',\n",
        "                       max_depth=5, max_features=None, max_leaf_nodes=None,\n",
        "                       min_impurity_decrease=0.0, min_impurity_split=None,\n",
        "                       min_samples_leaf=1, min_samples_split=5,\n",
        "                       min_weight_fraction_leaf=0.0, presort='deprecated',\n",
        "                       random_state=None, splitter='best')\n",
        "\n",
        "dtc2.fit(train_data, train_labels)\n",
        "\n",
        "# RandomForestClassifier - prueba #2\n",
        "\n",
        "rndf2 = RandomForestClassifier(bootstrap=True, ccp_alpha=0.0, class_weight=None,\n",
        "                       criterion='gini', max_depth=None, max_features='auto',\n",
        "                       max_leaf_nodes=None, max_samples=None,\n",
        "                       min_impurity_decrease=0.0, min_impurity_split=None,\n",
        "                       min_samples_leaf=1, min_samples_split=2,\n",
        "                       min_weight_fraction_leaf=0.0, n_estimators=15,\n",
        "                       n_jobs=None, oob_score=False, random_state=None,\n",
        "                       verbose=0, warm_start=False)\n",
        "rndf2.fit(train_data, train_labels)\n",
        "\n",
        "# GradientBoostingClassifier - prueba #3\n",
        "\n",
        "gbc3 = GradientBoostingClassifier(ccp_alpha=0.0, criterion='mae', init=None,\n",
        "                           learning_rate=1.0, loss='deviance', max_depth=1,\n",
        "                           max_features='auto', max_leaf_nodes=None,\n",
        "                           min_impurity_decrease=0.0, min_impurity_split=None,\n",
        "                           min_samples_leaf=1, min_samples_split=2,\n",
        "                           min_weight_fraction_leaf=0.0, n_estimators=200,\n",
        "                           n_iter_no_change=None, presort='deprecated',\n",
        "                           random_state=0, subsample=1.0, tol=0.0001,\n",
        "                           validation_fraction=0.1, verbose=0,\n",
        "                           warm_start=False)\n",
        "\n",
        "gbc3.fit(train_data, train_labels)"
      ],
      "execution_count": 40,
      "outputs": [
        {
          "output_type": "execute_result",
          "data": {
            "text/plain": [
              "GradientBoostingClassifier(ccp_alpha=0.0, criterion='mae', init=None,\n",
              "                           learning_rate=1.0, loss='deviance', max_depth=1,\n",
              "                           max_features='auto', max_leaf_nodes=None,\n",
              "                           min_impurity_decrease=0.0, min_impurity_split=None,\n",
              "                           min_samples_leaf=1, min_samples_split=2,\n",
              "                           min_weight_fraction_leaf=0.0, n_estimators=200,\n",
              "                           n_iter_no_change=None, presort='deprecated',\n",
              "                           random_state=0, subsample=1.0, tol=0.0001,\n",
              "                           validation_fraction=0.1, verbose=0,\n",
              "                           warm_start=False)"
            ]
          },
          "metadata": {},
          "execution_count": 40
        }
      ]
    },
    {
      "cell_type": "code",
      "metadata": {
        "id": "EVlgO_14K_pa"
      },
      "source": [
        "# Se hace la predicción con los nuevos datos\n",
        "\n",
        "prediccion_nuevos = lreg2.predict(nuevos)\n",
        "\n",
        "# Probar con los demás métodos"
      ],
      "execution_count": 41,
      "outputs": []
    },
    {
      "cell_type": "code",
      "metadata": {
        "id": "MpW46fwTLHAR"
      },
      "source": [
        "# Se convierten de array a dataframe para ser agregados como columna nueva en el dataset\n",
        "prediccionDF = pd.DataFrame(prediccion_nuevos)"
      ],
      "execution_count": 42,
      "outputs": []
    },
    {
      "cell_type": "code",
      "metadata": {
        "id": "q9xDH79vLJ4q"
      },
      "source": [
        "# Se agrega la nueva columna\n",
        "datos_Nuevos['TIPO_TAPICERIA'] = prediccionDF"
      ],
      "execution_count": 44,
      "outputs": []
    },
    {
      "cell_type": "code",
      "metadata": {
        "colab": {
          "base_uri": "https://localhost:8080/",
          "height": 224
        },
        "id": "rA6nS0BFLvGB",
        "outputId": "80704b8a-fb45-40ca-e239-228021427086"
      },
      "source": [
        "datos_Nuevos.head()"
      ],
      "execution_count": 45,
      "outputs": [
        {
          "output_type": "execute_result",
          "data": {
            "text/html": [
              "<div>\n",
              "<style scoped>\n",
              "    .dataframe tbody tr th:only-of-type {\n",
              "        vertical-align: middle;\n",
              "    }\n",
              "\n",
              "    .dataframe tbody tr th {\n",
              "        vertical-align: top;\n",
              "    }\n",
              "\n",
              "    .dataframe thead th {\n",
              "        text-align: right;\n",
              "    }\n",
              "</style>\n",
              "<table border=\"1\" class=\"dataframe\">\n",
              "  <thead>\n",
              "    <tr style=\"text-align: right;\">\n",
              "      <th></th>\n",
              "      <th>CLIENTE</th>\n",
              "      <th>MODELO</th>\n",
              "      <th>NUM_PLAZAS</th>\n",
              "      <th>MECANISMO_MODULO</th>\n",
              "      <th>IMPORTE_LINEA</th>\n",
              "      <th>CATEGORIA</th>\n",
              "      <th>TIPO_TAPICERIA</th>\n",
              "      <th>COSTE_TAPIZADO_AGRUP</th>\n",
              "      <th>P_COSTE</th>\n",
              "      <th>MARGEN_UDS_LINEA</th>\n",
              "      <th>DTO_FAMILIA</th>\n",
              "      <th>I_COMISION</th>\n",
              "      <th>I_BRUTO</th>\n",
              "      <th>DTO_PP</th>\n",
              "      <th>DTO_LINEAS</th>\n",
              "      <th>MARGEN_BRUTO</th>\n",
              "      <th>PROVINCIA</th>\n",
              "      <th>COD_COMUNIDAD</th>\n",
              "      <th>HIPOTECA</th>\n",
              "      <th>INDENCIAS_CLIENTE</th>\n",
              "      <th>PIB_VALOR_EUROS</th>\n",
              "      <th>PARO_2020T3</th>\n",
              "      <th>status_cliente</th>\n",
              "    </tr>\n",
              "  </thead>\n",
              "  <tbody>\n",
              "    <tr>\n",
              "      <th>0</th>\n",
              "      <td>4775</td>\n",
              "      <td>44</td>\n",
              "      <td>100</td>\n",
              "      <td>1</td>\n",
              "      <td>358.4</td>\n",
              "      <td>0</td>\n",
              "      <td>T</td>\n",
              "      <td>41.03</td>\n",
              "      <td>111.93</td>\n",
              "      <td>205.45</td>\n",
              "      <td>7.0</td>\n",
              "      <td>80.92</td>\n",
              "      <td>1268.4</td>\n",
              "      <td>23.59</td>\n",
              "      <td>88.79</td>\n",
              "      <td>1156.02</td>\n",
              "      <td>20</td>\n",
              "      <td>16.0</td>\n",
              "      <td>0.2610</td>\n",
              "      <td>105.0</td>\n",
              "      <td>32015.0</td>\n",
              "      <td>8.47</td>\n",
              "      <td>11.744111</td>\n",
              "    </tr>\n",
              "    <tr>\n",
              "      <th>1</th>\n",
              "      <td>4775</td>\n",
              "      <td>10</td>\n",
              "      <td>300</td>\n",
              "      <td>2</td>\n",
              "      <td>411.6</td>\n",
              "      <td>0</td>\n",
              "      <td>T</td>\n",
              "      <td>72.94</td>\n",
              "      <td>93.69</td>\n",
              "      <td>244.97</td>\n",
              "      <td>7.0</td>\n",
              "      <td>51.00</td>\n",
              "      <td>799.4</td>\n",
              "      <td>14.87</td>\n",
              "      <td>55.96</td>\n",
              "      <td>728.57</td>\n",
              "      <td>20</td>\n",
              "      <td>16.0</td>\n",
              "      <td>0.2610</td>\n",
              "      <td>105.0</td>\n",
              "      <td>32015.0</td>\n",
              "      <td>8.47</td>\n",
              "      <td>11.744111</td>\n",
              "    </tr>\n",
              "    <tr>\n",
              "      <th>2</th>\n",
              "      <td>4775</td>\n",
              "      <td>10</td>\n",
              "      <td>100</td>\n",
              "      <td>1</td>\n",
              "      <td>387.8</td>\n",
              "      <td>0</td>\n",
              "      <td>T</td>\n",
              "      <td>72.94</td>\n",
              "      <td>78.22</td>\n",
              "      <td>236.64</td>\n",
              "      <td>7.0</td>\n",
              "      <td>51.00</td>\n",
              "      <td>799.4</td>\n",
              "      <td>14.87</td>\n",
              "      <td>55.96</td>\n",
              "      <td>728.57</td>\n",
              "      <td>20</td>\n",
              "      <td>16.0</td>\n",
              "      <td>0.2610</td>\n",
              "      <td>105.0</td>\n",
              "      <td>32015.0</td>\n",
              "      <td>8.47</td>\n",
              "      <td>11.744111</td>\n",
              "    </tr>\n",
              "    <tr>\n",
              "      <th>3</th>\n",
              "      <td>5860</td>\n",
              "      <td>26</td>\n",
              "      <td>200</td>\n",
              "      <td>0</td>\n",
              "      <td>469.0</td>\n",
              "      <td>2</td>\n",
              "      <td>T</td>\n",
              "      <td>18.19</td>\n",
              "      <td>182.99</td>\n",
              "      <td>267.82</td>\n",
              "      <td>5.0</td>\n",
              "      <td>23.45</td>\n",
              "      <td>469.0</td>\n",
              "      <td>0.00</td>\n",
              "      <td>0.00</td>\n",
              "      <td>469.00</td>\n",
              "      <td>11</td>\n",
              "      <td>1.0</td>\n",
              "      <td>0.2673</td>\n",
              "      <td>31.0</td>\n",
              "      <td>17231.0</td>\n",
              "      <td>21.75</td>\n",
              "      <td>9.777893</td>\n",
              "    </tr>\n",
              "    <tr>\n",
              "      <th>4</th>\n",
              "      <td>5878</td>\n",
              "      <td>38</td>\n",
              "      <td>100</td>\n",
              "      <td>2</td>\n",
              "      <td>379.4</td>\n",
              "      <td>0</td>\n",
              "      <td>T</td>\n",
              "      <td>44.02</td>\n",
              "      <td>125.47</td>\n",
              "      <td>209.91</td>\n",
              "      <td>6.0</td>\n",
              "      <td>64.74</td>\n",
              "      <td>1405.6</td>\n",
              "      <td>26.43</td>\n",
              "      <td>84.34</td>\n",
              "      <td>1294.84</td>\n",
              "      <td>37</td>\n",
              "      <td>7.0</td>\n",
              "      <td>0.2449</td>\n",
              "      <td>16.0</td>\n",
              "      <td>20654.0</td>\n",
              "      <td>10.98</td>\n",
              "      <td>21.910210</td>\n",
              "    </tr>\n",
              "  </tbody>\n",
              "</table>\n",
              "</div>"
            ],
            "text/plain": [
              "   CLIENTE  MODELO  NUM_PLAZAS  ...  PIB_VALOR_EUROS  PARO_2020T3  status_cliente\n",
              "0     4775      44         100  ...          32015.0         8.47       11.744111\n",
              "1     4775      10         300  ...          32015.0         8.47       11.744111\n",
              "2     4775      10         100  ...          32015.0         8.47       11.744111\n",
              "3     5860      26         200  ...          17231.0        21.75        9.777893\n",
              "4     5878      38         100  ...          20654.0        10.98       21.910210\n",
              "\n",
              "[5 rows x 23 columns]"
            ]
          },
          "metadata": {},
          "execution_count": 45
        }
      ]
    },
    {
      "cell_type": "code",
      "metadata": {
        "colab": {
          "base_uri": "https://localhost:8080/"
        },
        "id": "WvA2mpAqL2Ap",
        "outputId": "4285dbea-91c6-409a-ced0-73541d354d2b"
      },
      "source": [
        "datos_Nuevos.info()"
      ],
      "execution_count": 46,
      "outputs": [
        {
          "output_type": "stream",
          "name": "stdout",
          "text": [
            "<class 'pandas.core.frame.DataFrame'>\n",
            "RangeIndex: 3731 entries, 0 to 3730\n",
            "Data columns (total 23 columns):\n",
            " #   Column                Non-Null Count  Dtype  \n",
            "---  ------                --------------  -----  \n",
            " 0   CLIENTE               3731 non-null   int64  \n",
            " 1   MODELO                3731 non-null   int64  \n",
            " 2   NUM_PLAZAS            3731 non-null   int64  \n",
            " 3   MECANISMO_MODULO      3731 non-null   int64  \n",
            " 4   IMPORTE_LINEA         3731 non-null   float64\n",
            " 5   CATEGORIA             3731 non-null   int64  \n",
            " 6   TIPO_TAPICERIA        3731 non-null   object \n",
            " 7   COSTE_TAPIZADO_AGRUP  3731 non-null   float64\n",
            " 8   P_COSTE               3731 non-null   float64\n",
            " 9   MARGEN_UDS_LINEA      3731 non-null   float64\n",
            " 10  DTO_FAMILIA           3731 non-null   float64\n",
            " 11  I_COMISION            3731 non-null   float64\n",
            " 12  I_BRUTO               3731 non-null   float64\n",
            " 13  DTO_PP                3731 non-null   float64\n",
            " 14  DTO_LINEAS            3731 non-null   float64\n",
            " 15  MARGEN_BRUTO          3731 non-null   float64\n",
            " 16  PROVINCIA             3731 non-null   int64  \n",
            " 17  COD_COMUNIDAD         3731 non-null   float64\n",
            " 18  HIPOTECA              3731 non-null   float64\n",
            " 19  INDENCIAS_CLIENTE     3731 non-null   float64\n",
            " 20  PIB_VALOR_EUROS       3731 non-null   float64\n",
            " 21  PARO_2020T3           3731 non-null   float64\n",
            " 22  status_cliente        3731 non-null   float64\n",
            "dtypes: float64(16), int64(6), object(1)\n",
            "memory usage: 670.5+ KB\n"
          ]
        }
      ]
    },
    {
      "cell_type": "code",
      "metadata": {
        "colab": {
          "base_uri": "https://localhost:8080/"
        },
        "id": "Z6e_ZllyL7bJ",
        "outputId": "17cdf880-0a0d-465e-a20f-cd33fb790578"
      },
      "source": [
        "# Se obtiene el conteo de valores para actualizar el documento del informe con la predicción realizada\n",
        "pd.value_counts(datos_Nuevos.TIPO_TAPICERIA)"
      ],
      "execution_count": 47,
      "outputs": [
        {
          "output_type": "execute_result",
          "data": {
            "text/plain": [
              "T    3519\n",
              "P     212\n",
              "Name: TIPO_TAPICERIA, dtype: int64"
            ]
          },
          "metadata": {},
          "execution_count": 47
        }
      ]
    }
  ]
}
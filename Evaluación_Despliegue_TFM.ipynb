{
  "nbformat": 4,
  "nbformat_minor": 0,
  "metadata": {
    "colab": {
      "name": "Evaluación_Despliegue_TFM.ipynb",
      "provenance": [],
      "collapsed_sections": [],
      "authorship_tag": "ABX9TyOYnQuotjMcF0PyyDyp4IRj",
      "include_colab_link": true
    },
    "kernelspec": {
      "name": "python3",
      "display_name": "Python 3"
    },
    "language_info": {
      "name": "python"
    }
  },
  "cells": [
    {
      "cell_type": "markdown",
      "metadata": {
        "id": "view-in-github",
        "colab_type": "text"
      },
      "source": [
        "<a href=\"https://colab.research.google.com/github/pacogp/TFM/blob/main/Evaluaci%C3%B3n_Despliegue_TFM.ipynb\" target=\"_parent\"><img src=\"https://colab.research.google.com/assets/colab-badge.svg\" alt=\"Open In Colab\"/></a>"
      ]
    },
    {
      "cell_type": "code",
      "metadata": {
        "id": "LM6gsIBRvtUm"
      },
      "source": [
        "# Inicialmente importamos las librería y módulos que vamos a necesitar\n",
        "import pandas as pd\n",
        "import io \n",
        "from google.colab import files\n",
        "\n",
        "# para manipulación de datos y representaciones visuales vamos a necesitsar importar lo siguiente\n",
        "import matplotlib.pyplot as plt\n",
        "import numpy as np\n",
        "import itertools\n",
        "import seaborn as sns"
      ],
      "execution_count": 9,
      "outputs": []
    },
    {
      "cell_type": "code",
      "metadata": {
        "id": "YAuhvDm-wAq0"
      },
      "source": [
        "# para la importación de los datos: definimos la función upload_files\n",
        "\n",
        "def upload_files ():\n",
        "  uploaded = files.upload()\n",
        "  for fn in uploaded.keys():\n",
        "    print('User uploaded file \"{name}\" with length {length} bytes'.format(\n",
        "        name=fn, length=len(uploaded[fn])))\n",
        "    df = pd.read_csv(io.StringIO(uploaded[fn].decode('utf-8')))\n",
        "    return df"
      ],
      "execution_count": 10,
      "outputs": []
    },
    {
      "cell_type": "code",
      "metadata": {
        "colab": {
          "resources": {
            "http://localhost:8080/nbextensions/google.colab/files.js": {
              "data": "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",
              "ok": true,
              "headers": [
                [
                  "content-type",
                  "application/javascript"
                ]
              ],
              "status": 200,
              "status_text": ""
            }
          },
          "base_uri": "https://localhost:8080/",
          "height": 296
        },
        "id": "nOfAxQMWwK7c",
        "outputId": "c7e6d598-732a-48e3-d26e-3defcd47db3a"
      },
      "source": [
        "# Cargamos los datos del dataset resultante del la exploración de los datos \"datos_completos_dedupped_train_test.csv\", Enlace: https://github.com/pacogp/TFM\n",
        "\n",
        "datos = upload_files()\n",
        "datos.head()"
      ],
      "execution_count": 11,
      "outputs": [
        {
          "output_type": "display_data",
          "data": {
            "text/html": [
              "\n",
              "     <input type=\"file\" id=\"files-8d42d1f3-7f02-4457-b8b8-872c5c147b37\" name=\"files[]\" multiple disabled\n",
              "        style=\"border:none\" />\n",
              "     <output id=\"result-8d42d1f3-7f02-4457-b8b8-872c5c147b37\">\n",
              "      Upload widget is only available when the cell has been executed in the\n",
              "      current browser session. Please rerun this cell to enable.\n",
              "      </output>\n",
              "      <script src=\"/nbextensions/google.colab/files.js\"></script> "
            ],
            "text/plain": [
              "<IPython.core.display.HTML object>"
            ]
          },
          "metadata": {}
        },
        {
          "output_type": "stream",
          "name": "stdout",
          "text": [
            "Saving datos_completos_dedupped_train_test_.csv to datos_completos_dedupped_train_test_.csv\n",
            "User uploaded file \"datos_completos_dedupped_train_test_.csv\" with length 2205420 bytes\n"
          ]
        },
        {
          "output_type": "execute_result",
          "data": {
            "text/html": [
              "<div>\n",
              "<style scoped>\n",
              "    .dataframe tbody tr th:only-of-type {\n",
              "        vertical-align: middle;\n",
              "    }\n",
              "\n",
              "    .dataframe tbody tr th {\n",
              "        vertical-align: top;\n",
              "    }\n",
              "\n",
              "    .dataframe thead th {\n",
              "        text-align: right;\n",
              "    }\n",
              "</style>\n",
              "<table border=\"1\" class=\"dataframe\">\n",
              "  <thead>\n",
              "    <tr style=\"text-align: right;\">\n",
              "      <th></th>\n",
              "      <th>CLIENTE</th>\n",
              "      <th>MODELO</th>\n",
              "      <th>NUM_PLAZAS</th>\n",
              "      <th>MECANISMO_MODULO</th>\n",
              "      <th>IMPORTE_LINEA</th>\n",
              "      <th>CATEGORIA</th>\n",
              "      <th>TIPO_TAPICERIA</th>\n",
              "      <th>COSTE_TAPIZADO_AGRUP</th>\n",
              "      <th>P_COSTE</th>\n",
              "      <th>MARGEN_UDS_LINEA</th>\n",
              "      <th>DTO_FAMILIA</th>\n",
              "      <th>I_COMISION</th>\n",
              "      <th>I_BRUTO</th>\n",
              "      <th>DTO_PP</th>\n",
              "      <th>DTO_LINEAS</th>\n",
              "      <th>MARGEN_BRUTO</th>\n",
              "      <th>PROVINCIA</th>\n",
              "      <th>COD_COMUNIDAD</th>\n",
              "      <th>HIPOTECA</th>\n",
              "      <th>INDENCIAS_CLIENTE</th>\n",
              "      <th>PIB_VALOR_EUROS</th>\n",
              "      <th>PARO_2020T3</th>\n",
              "      <th>status_cliente</th>\n",
              "    </tr>\n",
              "  </thead>\n",
              "  <tbody>\n",
              "    <tr>\n",
              "      <th>0</th>\n",
              "      <td>386</td>\n",
              "      <td>0</td>\n",
              "      <td>300</td>\n",
              "      <td>0</td>\n",
              "      <td>592.02</td>\n",
              "      <td>0</td>\n",
              "      <td>T</td>\n",
              "      <td>90.13</td>\n",
              "      <td>154.01</td>\n",
              "      <td>347.88</td>\n",
              "      <td>8.0</td>\n",
              "      <td>67.73</td>\n",
              "      <td>1472.46</td>\n",
              "      <td>0.00</td>\n",
              "      <td>117.80</td>\n",
              "      <td>1354.66</td>\n",
              "      <td>8</td>\n",
              "      <td>9.0</td>\n",
              "      <td>0.3240</td>\n",
              "      <td>89.0</td>\n",
              "      <td>29885.0</td>\n",
              "      <td>11.40</td>\n",
              "      <td>9.534693</td>\n",
              "    </tr>\n",
              "    <tr>\n",
              "      <th>1</th>\n",
              "      <td>386</td>\n",
              "      <td>0</td>\n",
              "      <td>100</td>\n",
              "      <td>1</td>\n",
              "      <td>470.58</td>\n",
              "      <td>0</td>\n",
              "      <td>T</td>\n",
              "      <td>90.13</td>\n",
              "      <td>127.43</td>\n",
              "      <td>253.02</td>\n",
              "      <td>8.0</td>\n",
              "      <td>67.73</td>\n",
              "      <td>1472.46</td>\n",
              "      <td>0.00</td>\n",
              "      <td>117.80</td>\n",
              "      <td>1354.66</td>\n",
              "      <td>8</td>\n",
              "      <td>9.0</td>\n",
              "      <td>0.3240</td>\n",
              "      <td>89.0</td>\n",
              "      <td>29885.0</td>\n",
              "      <td>11.40</td>\n",
              "      <td>9.534693</td>\n",
              "    </tr>\n",
              "    <tr>\n",
              "      <th>2</th>\n",
              "      <td>386</td>\n",
              "      <td>0</td>\n",
              "      <td>100</td>\n",
              "      <td>0</td>\n",
              "      <td>409.86</td>\n",
              "      <td>0</td>\n",
              "      <td>T</td>\n",
              "      <td>90.13</td>\n",
              "      <td>110.43</td>\n",
              "      <td>209.30</td>\n",
              "      <td>8.0</td>\n",
              "      <td>67.73</td>\n",
              "      <td>1472.46</td>\n",
              "      <td>0.00</td>\n",
              "      <td>117.80</td>\n",
              "      <td>1354.66</td>\n",
              "      <td>8</td>\n",
              "      <td>9.0</td>\n",
              "      <td>0.3240</td>\n",
              "      <td>89.0</td>\n",
              "      <td>29885.0</td>\n",
              "      <td>11.40</td>\n",
              "      <td>9.534693</td>\n",
              "    </tr>\n",
              "    <tr>\n",
              "      <th>3</th>\n",
              "      <td>4951</td>\n",
              "      <td>1</td>\n",
              "      <td>100</td>\n",
              "      <td>2</td>\n",
              "      <td>266.34</td>\n",
              "      <td>0</td>\n",
              "      <td>T</td>\n",
              "      <td>43.19</td>\n",
              "      <td>53.02</td>\n",
              "      <td>170.13</td>\n",
              "      <td>16.0</td>\n",
              "      <td>0.00</td>\n",
              "      <td>1305.48</td>\n",
              "      <td>21.93</td>\n",
              "      <td>208.86</td>\n",
              "      <td>1074.70</td>\n",
              "      <td>7</td>\n",
              "      <td>4.0</td>\n",
              "      <td>0.4149</td>\n",
              "      <td>53.0</td>\n",
              "      <td>27134.0</td>\n",
              "      <td>11.18</td>\n",
              "      <td>10.505733</td>\n",
              "    </tr>\n",
              "    <tr>\n",
              "      <th>4</th>\n",
              "      <td>4951</td>\n",
              "      <td>1</td>\n",
              "      <td>100</td>\n",
              "      <td>2</td>\n",
              "      <td>422.28</td>\n",
              "      <td>0</td>\n",
              "      <td>T</td>\n",
              "      <td>86.39</td>\n",
              "      <td>36.05</td>\n",
              "      <td>263.79</td>\n",
              "      <td>16.0</td>\n",
              "      <td>0.00</td>\n",
              "      <td>1305.48</td>\n",
              "      <td>21.93</td>\n",
              "      <td>208.86</td>\n",
              "      <td>1074.70</td>\n",
              "      <td>7</td>\n",
              "      <td>4.0</td>\n",
              "      <td>0.4149</td>\n",
              "      <td>53.0</td>\n",
              "      <td>27134.0</td>\n",
              "      <td>11.18</td>\n",
              "      <td>10.505733</td>\n",
              "    </tr>\n",
              "  </tbody>\n",
              "</table>\n",
              "</div>"
            ],
            "text/plain": [
              "   CLIENTE  MODELO  NUM_PLAZAS  ...  PIB_VALOR_EUROS  PARO_2020T3  status_cliente\n",
              "0      386       0         300  ...          29885.0        11.40        9.534693\n",
              "1      386       0         100  ...          29885.0        11.40        9.534693\n",
              "2      386       0         100  ...          29885.0        11.40        9.534693\n",
              "3     4951       1         100  ...          27134.0        11.18       10.505733\n",
              "4     4951       1         100  ...          27134.0        11.18       10.505733\n",
              "\n",
              "[5 rows x 23 columns]"
            ]
          },
          "metadata": {},
          "execution_count": 11
        }
      ]
    },
    {
      "cell_type": "markdown",
      "metadata": {
        "id": "YLnf3SxbxACK"
      },
      "source": [
        "### Separación del atributo de clase y las columnas a utilizar del dataset"
      ]
    },
    {
      "cell_type": "code",
      "metadata": {
        "id": "tyQ97roCw5_T"
      },
      "source": [
        "labels = datos.TIPO_TAPICERIA.values\n",
        "\n",
        "features = datos[['CLIENTE', 'I_BRUTO', 'MARGEN_BRUTO', 'PIB_VALOR_EUROS', \n",
        "                 'DTO_LINEAS', 'IMPORTE_LINEA', 'status_cliente', \n",
        "                 'MARGEN_UDS_LINEA', 'I_COMISION', 'DTO_PP', 'CATEGORIA']]"
      ],
      "execution_count": 12,
      "outputs": []
    },
    {
      "cell_type": "code",
      "metadata": {
        "colab": {
          "base_uri": "https://localhost:8080/",
          "height": 272
        },
        "id": "wxQWKnov02rZ",
        "outputId": "cdffec18-3189-4e6c-f8f2-940ea5247852"
      },
      "source": [
        "print(f\"Vista de los datos del atributo target: \\n{labels}\")\n",
        "print(\"-\"*50)\n",
        "print(\"Vista parcial de los datos sin el atributo target:\")\n",
        "features.head()"
      ],
      "execution_count": 13,
      "outputs": [
        {
          "output_type": "stream",
          "name": "stdout",
          "text": [
            "Vista de los datos del atributo target: \n",
            "['T' 'T' 'T' ... 'T' 'T' 'T']\n",
            "--------------------------------------------------\n",
            "Vista parcial de los datos sin el atributo target:\n"
          ]
        },
        {
          "output_type": "execute_result",
          "data": {
            "text/html": [
              "<div>\n",
              "<style scoped>\n",
              "    .dataframe tbody tr th:only-of-type {\n",
              "        vertical-align: middle;\n",
              "    }\n",
              "\n",
              "    .dataframe tbody tr th {\n",
              "        vertical-align: top;\n",
              "    }\n",
              "\n",
              "    .dataframe thead th {\n",
              "        text-align: right;\n",
              "    }\n",
              "</style>\n",
              "<table border=\"1\" class=\"dataframe\">\n",
              "  <thead>\n",
              "    <tr style=\"text-align: right;\">\n",
              "      <th></th>\n",
              "      <th>CLIENTE</th>\n",
              "      <th>I_BRUTO</th>\n",
              "      <th>MARGEN_BRUTO</th>\n",
              "      <th>PIB_VALOR_EUROS</th>\n",
              "      <th>DTO_LINEAS</th>\n",
              "      <th>IMPORTE_LINEA</th>\n",
              "      <th>status_cliente</th>\n",
              "      <th>MARGEN_UDS_LINEA</th>\n",
              "      <th>I_COMISION</th>\n",
              "      <th>DTO_PP</th>\n",
              "      <th>CATEGORIA</th>\n",
              "    </tr>\n",
              "  </thead>\n",
              "  <tbody>\n",
              "    <tr>\n",
              "      <th>0</th>\n",
              "      <td>386</td>\n",
              "      <td>1472.46</td>\n",
              "      <td>1354.66</td>\n",
              "      <td>29885.0</td>\n",
              "      <td>117.80</td>\n",
              "      <td>592.02</td>\n",
              "      <td>9.534693</td>\n",
              "      <td>347.88</td>\n",
              "      <td>67.73</td>\n",
              "      <td>0.00</td>\n",
              "      <td>0</td>\n",
              "    </tr>\n",
              "    <tr>\n",
              "      <th>1</th>\n",
              "      <td>386</td>\n",
              "      <td>1472.46</td>\n",
              "      <td>1354.66</td>\n",
              "      <td>29885.0</td>\n",
              "      <td>117.80</td>\n",
              "      <td>470.58</td>\n",
              "      <td>9.534693</td>\n",
              "      <td>253.02</td>\n",
              "      <td>67.73</td>\n",
              "      <td>0.00</td>\n",
              "      <td>0</td>\n",
              "    </tr>\n",
              "    <tr>\n",
              "      <th>2</th>\n",
              "      <td>386</td>\n",
              "      <td>1472.46</td>\n",
              "      <td>1354.66</td>\n",
              "      <td>29885.0</td>\n",
              "      <td>117.80</td>\n",
              "      <td>409.86</td>\n",
              "      <td>9.534693</td>\n",
              "      <td>209.30</td>\n",
              "      <td>67.73</td>\n",
              "      <td>0.00</td>\n",
              "      <td>0</td>\n",
              "    </tr>\n",
              "    <tr>\n",
              "      <th>3</th>\n",
              "      <td>4951</td>\n",
              "      <td>1305.48</td>\n",
              "      <td>1074.70</td>\n",
              "      <td>27134.0</td>\n",
              "      <td>208.86</td>\n",
              "      <td>266.34</td>\n",
              "      <td>10.505733</td>\n",
              "      <td>170.13</td>\n",
              "      <td>0.00</td>\n",
              "      <td>21.93</td>\n",
              "      <td>0</td>\n",
              "    </tr>\n",
              "    <tr>\n",
              "      <th>4</th>\n",
              "      <td>4951</td>\n",
              "      <td>1305.48</td>\n",
              "      <td>1074.70</td>\n",
              "      <td>27134.0</td>\n",
              "      <td>208.86</td>\n",
              "      <td>422.28</td>\n",
              "      <td>10.505733</td>\n",
              "      <td>263.79</td>\n",
              "      <td>0.00</td>\n",
              "      <td>21.93</td>\n",
              "      <td>0</td>\n",
              "    </tr>\n",
              "  </tbody>\n",
              "</table>\n",
              "</div>"
            ],
            "text/plain": [
              "   CLIENTE  I_BRUTO  MARGEN_BRUTO  ...  I_COMISION  DTO_PP  CATEGORIA\n",
              "0      386  1472.46       1354.66  ...       67.73    0.00          0\n",
              "1      386  1472.46       1354.66  ...       67.73    0.00          0\n",
              "2      386  1472.46       1354.66  ...       67.73    0.00          0\n",
              "3     4951  1305.48       1074.70  ...        0.00   21.93          0\n",
              "4     4951  1305.48       1074.70  ...        0.00   21.93          0\n",
              "\n",
              "[5 rows x 11 columns]"
            ]
          },
          "metadata": {},
          "execution_count": 13
        }
      ]
    },
    {
      "cell_type": "code",
      "metadata": {
        "colab": {
          "base_uri": "https://localhost:8080/"
        },
        "id": "MvN9EdmD32nR",
        "outputId": "083fbfb8-f037-4bb3-d863-0193b6b1f423"
      },
      "source": [
        "# Comprobamos que efectivamente no existen nulos\n",
        "\n",
        "nulos_x_columna = features.isna().sum()\n",
        "\n",
        "print(f\"Cantidad de filas que tienen valores nulos por atributo:\\n{nulos_x_columna}\")"
      ],
      "execution_count": 14,
      "outputs": [
        {
          "output_type": "stream",
          "name": "stdout",
          "text": [
            "Cantidad de filas que tienen valores nulos por atributo:\n",
            "CLIENTE             0\n",
            "I_BRUTO             0\n",
            "MARGEN_BRUTO        0\n",
            "PIB_VALOR_EUROS     0\n",
            "DTO_LINEAS          0\n",
            "IMPORTE_LINEA       0\n",
            "status_cliente      0\n",
            "MARGEN_UDS_LINEA    0\n",
            "I_COMISION          0\n",
            "DTO_PP              0\n",
            "CATEGORIA           0\n",
            "dtype: int64\n"
          ]
        }
      ]
    },
    {
      "cell_type": "markdown",
      "metadata": {
        "id": "Q1oTkGXm4trJ"
      },
      "source": [
        "### Generación de los datasets de entrenamiento y testing"
      ]
    },
    {
      "cell_type": "code",
      "metadata": {
        "id": "XBkQZXdG4xuw"
      },
      "source": [
        "from sklearn.model_selection import train_test_split\n",
        "\n",
        "# Se reparten los datos disponibles en conjuntos para entrenamiento y testeo\n",
        "\n",
        "# train_data, test_data, train_labels, test_labels = train_test_split(data, labels) \n",
        "\n",
        "train_data, test_data, train_labels, test_labels = train_test_split(features, labels, test_size = 0.20) # 20% de datos para test, 80% para entrenamiento\n",
        "# Toma por defecto 75% (entrenamiento) - 25% (testeo)\n",
        "# Se podría modificar con el parámetro test_size = 0.## y el complemento para training"
      ],
      "execution_count": 15,
      "outputs": []
    },
    {
      "cell_type": "code",
      "metadata": {
        "colab": {
          "base_uri": "https://localhost:8080/"
        },
        "id": "dv41A2Y7L16B",
        "outputId": "923dfd62-e7d2-4f8c-945a-4a8bd1955948"
      },
      "source": [
        "# Vista de los datos de entrenamiento para una fila\n",
        "\n",
        "print(f\"Un registro de entrenamiento: \\n{train_data.iloc[1]}\")\n",
        "print(\"-\"*50)\n",
        "print(f\"Label del registro: \\n{train_labels[1]}\")"
      ],
      "execution_count": 16,
      "outputs": [
        {
          "output_type": "stream",
          "name": "stdout",
          "text": [
            "Un registro de entrenamiento: \n",
            "CLIENTE              9314.000000\n",
            "I_BRUTO              1541.400000\n",
            "MARGEN_BRUTO         1340.500000\n",
            "PIB_VALOR_EUROS     25482.000000\n",
            "DTO_LINEAS            133.430000\n",
            "IMPORTE_LINEA         380.800000\n",
            "status_cliente          9.734669\n",
            "MARGEN_UDS_LINEA      163.600000\n",
            "I_COMISION             67.030000\n",
            "DTO_PP                 67.460000\n",
            "CATEGORIA               0.000000\n",
            "Name: 12348, dtype: float64\n",
            "--------------------------------------------------\n",
            "Label del registro: \n",
            "T\n"
          ]
        }
      ]
    },
    {
      "cell_type": "code",
      "metadata": {
        "colab": {
          "base_uri": "https://localhost:8080/"
        },
        "id": "5v43IHueMGNR",
        "outputId": "700b8179-547d-4631-91b9-ec882954d7fa"
      },
      "source": [
        "# Vista de los datos de testeo para una fila\n",
        "\n",
        "print(f\"Un registro de testeo: \\n{test_data.iloc[1]}\")\n",
        "print(\"-\"*50)\n",
        "print(f\"Label del registro: \\n{test_labels[1]}\")"
      ],
      "execution_count": 17,
      "outputs": [
        {
          "output_type": "stream",
          "name": "stdout",
          "text": [
            "Un registro de testeo: \n",
            "CLIENTE              8838.000000\n",
            "I_BRUTO               798.000000\n",
            "MARGEN_BRUTO          798.000000\n",
            "PIB_VALOR_EUROS     17465.000000\n",
            "DTO_LINEAS              0.000000\n",
            "IMPORTE_LINEA         350.000000\n",
            "status_cliente         12.918704\n",
            "MARGEN_UDS_LINEA      205.390000\n",
            "I_COMISION             39.900000\n",
            "DTO_PP                  0.000000\n",
            "CATEGORIA               2.000000\n",
            "Name: 2957, dtype: float64\n",
            "--------------------------------------------------\n",
            "Label del registro: \n",
            "T\n"
          ]
        }
      ]
    },
    {
      "cell_type": "markdown",
      "metadata": {
        "id": "BjOdzamKNZP5"
      },
      "source": [
        "### Aplicación de técnicas para extracción de patrones"
      ]
    },
    {
      "cell_type": "code",
      "metadata": {
        "id": "vt4GukJ8MJuB"
      },
      "source": [
        "#Importaciones varias para la evaluación\n",
        "\n",
        "from sklearn.metrics import confusion_matrix,accuracy_score,classification_report\n",
        "from sklearn.metrics import plot_confusion_matrix\n",
        "\n",
        "# Configuración de la evaluación\n",
        "\n",
        "def evaluar_modelo(modelo, test_data, test_labels):\n",
        "    prediction = modelo.predict(test_data)\n",
        "    print('Rendimiento obtenido:',accuracy_score(test_labels,prediction))\n",
        "    print('Reporte de indicadores:\\n',classification_report(test_labels,prediction))\n",
        "    print('Matriz de confusión:')\n",
        "    cf = plot_confusion_matrix(modelo,test_data,test_labels,cmap='Blues_r',values_format='d')"
      ],
      "execution_count": 18,
      "outputs": []
    },
    {
      "cell_type": "markdown",
      "metadata": {
        "id": "sSF2VwXFNc2f"
      },
      "source": [
        "#### ZeroR"
      ]
    },
    {
      "cell_type": "code",
      "metadata": {
        "colab": {
          "base_uri": "https://localhost:8080/"
        },
        "id": "2jzAcickMTkZ",
        "outputId": "5762f1e5-25ad-49f0-b2b4-f6505e334e4c"
      },
      "source": [
        "from sklearn.dummy import DummyClassifier\n",
        "\n",
        "clf = DummyClassifier('most_frequent') # predictores posibles “stratified”, “most_frequent”, “prior”, “uniform”, “constant”}, default=”prior”\n",
        "clf.fit(train_data, train_labels)\n",
        "\n",
        "prediction = clf.predict(test_data)\n",
        "print('Rendimiento obtenido:',accuracy_score(test_labels, prediction))\n",
        "print('Vista de una muestra de valores de predicción y datos de testeo:')\n",
        "print(prediction[:10])\n",
        "print(test_labels[:10])"
      ],
      "execution_count": 19,
      "outputs": [
        {
          "output_type": "stream",
          "name": "stdout",
          "text": [
            "Rendimiento obtenido: 0.9052941176470588\n",
            "Vista de una muestra de valores de predicción y datos de testeo:\n",
            "['T' 'T' 'T' 'T' 'T' 'T' 'T' 'T' 'T' 'T']\n",
            "['T' 'T' 'T' 'T' 'T' 'T' 'T' 'T' 'T' 'T']\n"
          ]
        }
      ]
    },
    {
      "cell_type": "markdown",
      "metadata": {
        "id": "D-6AmycMNuAZ"
      },
      "source": [
        "#### Regresión Logística"
      ]
    },
    {
      "cell_type": "code",
      "metadata": {
        "colab": {
          "base_uri": "https://localhost:8080/"
        },
        "id": "1H20UMDXNvo5",
        "outputId": "f7771574-0f29-4ff5-cc5b-10ce97cdbda5"
      },
      "source": [
        "from sklearn.linear_model import LogisticRegression\n",
        "\n",
        "# Prueba Nro. 2\n",
        "\n",
        "lreg2 = LogisticRegression(C=1.0, class_weight=None, dual=False, fit_intercept=True,\n",
        "                intercept_scaling=1, l1_ratio=None, max_iter=100,\n",
        "                multi_class='auto', n_jobs=None, penalty='l2',\n",
        "                random_state=None, solver='liblinear', tol=0.0001, verbose=0,\n",
        "                warm_start=False)\n",
        "lreg2.fit(train_data, train_labels)"
      ],
      "execution_count": 20,
      "outputs": [
        {
          "output_type": "stream",
          "name": "stderr",
          "text": [
            "/usr/local/lib/python3.7/dist-packages/sklearn/svm/_base.py:947: ConvergenceWarning: Liblinear failed to converge, increase the number of iterations.\n",
            "  \"the number of iterations.\", ConvergenceWarning)\n"
          ]
        },
        {
          "output_type": "execute_result",
          "data": {
            "text/plain": [
              "LogisticRegression(C=1.0, class_weight=None, dual=False, fit_intercept=True,\n",
              "                   intercept_scaling=1, l1_ratio=None, max_iter=100,\n",
              "                   multi_class='auto', n_jobs=None, penalty='l2',\n",
              "                   random_state=None, solver='liblinear', tol=0.0001, verbose=0,\n",
              "                   warm_start=False)"
            ]
          },
          "metadata": {},
          "execution_count": 20
        }
      ]
    },
    {
      "cell_type": "code",
      "metadata": {
        "colab": {
          "base_uri": "https://localhost:8080/"
        },
        "id": "Yjo7SdR_OMkB",
        "outputId": "4bc4fd7f-c14a-4fb6-b0e6-dac31bd753bf"
      },
      "source": [
        "# Prueba Nro.1\n",
        "\n",
        "lreg = LogisticRegression(C=1.0, class_weight=None, dual=False, fit_intercept=True,\n",
        "               intercept_scaling=1, l1_ratio=None, max_iter=75,\n",
        "               multi_class='multinomial', n_jobs=None, penalty='l2',\n",
        "               random_state=None, solver='newton-cg', tol=0.0001, verbose=0,\n",
        "               warm_start=False) \n",
        "\n",
        "lreg.fit(train_data, train_labels)\n",
        "\n",
        "# multi_class {'auto', 'ovr', 'multinomial'}, predeterminado = 'auto'\n",
        "# solver = 'newton-cg’, ‘lbfgs’, ‘liblinear’, ‘sag’, ‘saga’}, default=’lbfgs’ "
      ],
      "execution_count": 21,
      "outputs": [
        {
          "output_type": "stream",
          "name": "stderr",
          "text": [
            "/usr/local/lib/python3.7/dist-packages/sklearn/utils/optimize.py:212: ConvergenceWarning: newton-cg failed to converge. Increase the number of iterations.\n",
            "  \"number of iterations.\", ConvergenceWarning)\n"
          ]
        },
        {
          "output_type": "execute_result",
          "data": {
            "text/plain": [
              "LogisticRegression(C=1.0, class_weight=None, dual=False, fit_intercept=True,\n",
              "                   intercept_scaling=1, l1_ratio=None, max_iter=75,\n",
              "                   multi_class='multinomial', n_jobs=None, penalty='l2',\n",
              "                   random_state=None, solver='newton-cg', tol=0.0001, verbose=0,\n",
              "                   warm_start=False)"
            ]
          },
          "metadata": {},
          "execution_count": 21
        }
      ]
    }
  ]
}